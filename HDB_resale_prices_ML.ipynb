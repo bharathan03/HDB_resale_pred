{
 "cells": [
  {
   "cell_type": "markdown",
   "id": "863004a6",
   "metadata": {},
   "source": [
    "# HDB Resale Price Prediction\n",
    "\n",
    "This projects aims to predict resale prices of HDB using a Supervised Learning technique (Regression). "
   ]
  },
  {
   "cell_type": "markdown",
   "id": "1af30a57",
   "metadata": {},
   "source": [
    "### Import required libraries "
   ]
  },
  {
   "cell_type": "code",
   "execution_count": 4,
   "id": "5db4ac80",
   "metadata": {},
   "outputs": [],
   "source": [
    "import pandas as pd\n",
    "import matplotlib.pyplot as plt\n",
    "import seaborn as sns\n",
    "import os\n",
    "import glob"
   ]
  },
  {
   "cell_type": "markdown",
   "id": "6c5aa116",
   "metadata": {},
   "source": [
    "## Background Research and Data Exploration"
   ]
  },
  {
   "cell_type": "markdown",
   "id": "3e8b4e4e",
   "metadata": {},
   "source": [
    "There are 5 csv files within a parent folder \n",
    "- Resale Flat Prices (Based on Approval Date), 1990 - 1999.csv\n",
    "- Resale Flat Prices (Based on Approval Date), 2000 - Feb 2012.csv\n",
    "- Resale Flat Prices (Based on Registration Date), From Jan 2015 to Dec 2016.csv\n",
    "- Resale Flat Prices (Based on Registration Date), From Mar 2012 to Dec 2014.csv\n",
    "- Resale flat prices based on registration date from Jan-2017 onwards.csv"
   ]
  },
  {
   "cell_type": "code",
   "execution_count": 5,
   "id": "71d095cd",
   "metadata": {},
   "outputs": [
    {
     "name": "stdout",
     "output_type": "stream",
     "text": [
      "Columns in df1:\n",
      "<class 'pandas.core.frame.DataFrame'>\n",
      "RangeIndex: 287196 entries, 0 to 287195\n",
      "Data columns (total 10 columns):\n",
      " #   Column               Non-Null Count   Dtype  \n",
      "---  ------               --------------   -----  \n",
      " 0   month                287196 non-null  object \n",
      " 1   town                 287196 non-null  object \n",
      " 2   flat_type            287196 non-null  object \n",
      " 3   block                287196 non-null  object \n",
      " 4   street_name          287196 non-null  object \n",
      " 5   storey_range         287196 non-null  object \n",
      " 6   floor_area_sqm       287196 non-null  float64\n",
      " 7   flat_model           287196 non-null  object \n",
      " 8   lease_commence_date  287196 non-null  int64  \n",
      " 9   resale_price         287196 non-null  int64  \n",
      "dtypes: float64(1), int64(2), object(7)\n",
      "memory usage: 21.9+ MB\n",
      "None\n",
      "------------------------\n",
      "Columns in df2:\n",
      "<class 'pandas.core.frame.DataFrame'>\n",
      "RangeIndex: 369651 entries, 0 to 369650\n",
      "Data columns (total 10 columns):\n",
      " #   Column               Non-Null Count   Dtype  \n",
      "---  ------               --------------   -----  \n",
      " 0   month                369651 non-null  object \n",
      " 1   town                 369651 non-null  object \n",
      " 2   flat_type            369651 non-null  object \n",
      " 3   block                369651 non-null  object \n",
      " 4   street_name          369651 non-null  object \n",
      " 5   storey_range         369651 non-null  object \n",
      " 6   floor_area_sqm       369651 non-null  float64\n",
      " 7   flat_model           369651 non-null  object \n",
      " 8   lease_commence_date  369651 non-null  int64  \n",
      " 9   resale_price         369651 non-null  float64\n",
      "dtypes: float64(2), int64(1), object(7)\n",
      "memory usage: 28.2+ MB\n",
      "None\n",
      "------------------------\n",
      "Columns in df3:\n",
      "<class 'pandas.core.frame.DataFrame'>\n",
      "RangeIndex: 37153 entries, 0 to 37152\n",
      "Data columns (total 11 columns):\n",
      " #   Column               Non-Null Count  Dtype  \n",
      "---  ------               --------------  -----  \n",
      " 0   month                37153 non-null  object \n",
      " 1   town                 37153 non-null  object \n",
      " 2   flat_type            37153 non-null  object \n",
      " 3   block                37153 non-null  object \n",
      " 4   street_name          37153 non-null  object \n",
      " 5   storey_range         37153 non-null  object \n",
      " 6   floor_area_sqm       37153 non-null  float64\n",
      " 7   flat_model           37153 non-null  object \n",
      " 8   lease_commence_date  37153 non-null  int64  \n",
      " 9   remaining_lease      37153 non-null  int64  \n",
      " 10  resale_price         37153 non-null  float64\n",
      "dtypes: float64(2), int64(2), object(7)\n",
      "memory usage: 3.1+ MB\n",
      "None\n",
      "------------------------\n",
      "Columns in df4:\n",
      "<class 'pandas.core.frame.DataFrame'>\n",
      "RangeIndex: 52203 entries, 0 to 52202\n",
      "Data columns (total 10 columns):\n",
      " #   Column               Non-Null Count  Dtype  \n",
      "---  ------               --------------  -----  \n",
      " 0   month                52203 non-null  object \n",
      " 1   town                 52203 non-null  object \n",
      " 2   flat_type            52203 non-null  object \n",
      " 3   block                52203 non-null  object \n",
      " 4   street_name          52203 non-null  object \n",
      " 5   storey_range         52203 non-null  object \n",
      " 6   floor_area_sqm       52203 non-null  float64\n",
      " 7   flat_model           52203 non-null  object \n",
      " 8   lease_commence_date  52203 non-null  int64  \n",
      " 9   resale_price         52203 non-null  float64\n",
      "dtypes: float64(2), int64(1), object(7)\n",
      "memory usage: 4.0+ MB\n",
      "None\n",
      "------------------------\n",
      "Columns in df5:\n",
      "<class 'pandas.core.frame.DataFrame'>\n",
      "RangeIndex: 208925 entries, 0 to 208924\n",
      "Data columns (total 11 columns):\n",
      " #   Column               Non-Null Count   Dtype  \n",
      "---  ------               --------------   -----  \n",
      " 0   month                208925 non-null  object \n",
      " 1   town                 208925 non-null  object \n",
      " 2   flat_type            208925 non-null  object \n",
      " 3   block                208925 non-null  object \n",
      " 4   street_name          208925 non-null  object \n",
      " 5   storey_range         208925 non-null  object \n",
      " 6   floor_area_sqm       208925 non-null  float64\n",
      " 7   flat_model           208925 non-null  object \n",
      " 8   lease_commence_date  208925 non-null  int64  \n",
      " 9   remaining_lease      208925 non-null  object \n",
      " 10  resale_price         208925 non-null  float64\n",
      "dtypes: float64(2), int64(1), object(8)\n",
      "memory usage: 17.5+ MB\n",
      "None\n",
      "------------------------\n"
     ]
    }
   ],
   "source": [
    "df1 = pd.read_csv(r\"C:\\Users\\basbh\\Documents\\Projects\\ipynb_python_files\\ResaleFlatPrices\\Resale Flat Prices (Based on Approval Date), 1990 - 1999.csv\")\n",
    "df2 = pd.read_csv(r\"C:\\Users\\basbh\\Documents\\Projects\\ipynb_python_files\\ResaleFlatPrices\\Resale Flat Prices (Based on Approval Date), 2000 - Feb 2012.csv\")\n",
    "df3 = pd.read_csv(r\"C:\\Users\\basbh\\Documents\\Projects\\ipynb_python_files\\ResaleFlatPrices\\Resale Flat Prices (Based on Registration Date), From Jan 2015 to Dec 2016.csv\")\n",
    "df4 = pd.read_csv(r\"C:\\Users\\basbh\\Documents\\Projects\\ipynb_python_files\\ResaleFlatPrices\\Resale Flat Prices (Based on Registration Date), From Mar 2012 to Dec 2014.csv\")\n",
    "df5 = pd.read_csv(r\"C:\\Users\\basbh\\Documents\\Projects\\ipynb_python_files\\ResaleFlatPrices\\Resale flat prices based on registration date from Jan-2017 onwards.csv\")\n",
    "\n",
    "\n",
    "dataframes = [df1, df2, df3, df4, df5]\n",
    "\n",
    "for i, df in enumerate(dataframes, start=1):\n",
    "    print(f\"Columns in df{i}:\")\n",
    "    print(df.info())\n",
    "    print(\"------------------------\")\n"
   ]
  },
  {
   "cell_type": "code",
   "execution_count": 6,
   "id": "8fea3563",
   "metadata": {},
   "outputs": [
    {
     "name": "stdout",
     "output_type": "stream",
     "text": [
      "Columns in df1:\n",
      "       floor_area_sqm  lease_commence_date  resale_price\n",
      "count   287196.000000        287196.000000  287196.00000\n",
      "mean        93.351778          1983.206897  219541.67471\n",
      "std         27.361872             6.085632  128145.25346\n",
      "min         28.000000          1967.000000    5000.00000\n",
      "25%         68.000000          1979.000000  127000.00000\n",
      "50%         91.000000          1984.000000  195000.00000\n",
      "75%        113.000000          1987.000000  298000.00000\n",
      "max        307.000000          1997.000000  900000.00000\n",
      "------------------------\n",
      "Columns in df2:\n",
      "       floor_area_sqm  lease_commence_date   resale_price\n",
      "count   369651.000000        369651.000000  369651.000000\n",
      "mean        96.586204          1987.984659  281271.860617\n",
      "std         25.598886             9.122421  112118.967206\n",
      "min         28.000000          1966.000000   28000.000000\n",
      "25%         73.000000          1981.000000  195000.000000\n",
      "50%        100.000000          1987.000000  263000.000000\n",
      "75%        115.000000          1997.000000  350000.000000\n",
      "max        297.000000          2012.000000  903000.000000\n",
      "------------------------\n",
      "Columns in df3:\n",
      "       floor_area_sqm  lease_commence_date  remaining_lease  resale_price\n",
      "count    37153.000000         37153.000000     37153.000000  3.715300e+04\n",
      "mean        97.020386          1990.920195        73.913116  4.368628e+05\n",
      "std         24.198360            10.862330        10.885456  1.358052e+05\n",
      "min         31.000000          1966.000000        48.000000  1.900000e+05\n",
      "25%         74.000000          1984.000000        66.000000  3.400000e+05\n",
      "50%         96.000000          1989.000000        72.000000  4.080000e+05\n",
      "75%        111.000000          2000.000000        83.000000  4.950000e+05\n",
      "max        280.000000          2013.000000        97.000000  1.150000e+06\n",
      "------------------------\n",
      "Columns in df4:\n",
      "       floor_area_sqm  lease_commence_date  resale_price\n",
      "count    52203.000000         52203.000000  5.220300e+04\n",
      "mean        96.203285          1989.512902  4.612147e+05\n",
      "std         24.984010            10.139550  1.225534e+05\n",
      "min         31.000000          1966.000000  1.950000e+05\n",
      "25%         73.000000          1983.000000  3.700000e+05\n",
      "50%         95.000000          1988.000000  4.400000e+05\n",
      "75%        111.000000          1999.000000  5.250000e+05\n",
      "max        266.000000          2012.000000  1.088888e+06\n",
      "------------------------\n",
      "Columns in df5:\n",
      "       floor_area_sqm  lease_commence_date  resale_price\n",
      "count   208925.000000        208925.000000  2.089250e+05\n",
      "mean        96.874044          1996.319430  5.161494e+05\n",
      "std         24.028438            14.234261  1.820365e+05\n",
      "min         31.000000          1966.000000  1.400000e+05\n",
      "25%         82.000000          1985.000000  3.800000e+05\n",
      "50%         93.000000          1996.000000  4.850000e+05\n",
      "75%        112.000000          2011.000000  6.200000e+05\n",
      "max        366.700000          2022.000000  1.658888e+06\n",
      "------------------------\n"
     ]
    }
   ],
   "source": [
    "for i, df in enumerate(dataframes, start=1):\n",
    "    print(f\"Columns in df{i}:\")\n",
    "    print(df.describe())\n",
    "    print(\"------------------------\")"
   ]
  },
  {
   "cell_type": "code",
   "execution_count": 7,
   "id": "0842b7f3",
   "metadata": {},
   "outputs": [
    {
     "name": "stdout",
     "output_type": "stream",
     "text": [
      "Columns in df1:\n",
      "month                  0\n",
      "town                   0\n",
      "flat_type              0\n",
      "block                  0\n",
      "street_name            0\n",
      "storey_range           0\n",
      "floor_area_sqm         0\n",
      "flat_model             0\n",
      "lease_commence_date    0\n",
      "resale_price           0\n",
      "dtype: int64\n",
      "------------------------\n",
      "Columns in df2:\n",
      "month                  0\n",
      "town                   0\n",
      "flat_type              0\n",
      "block                  0\n",
      "street_name            0\n",
      "storey_range           0\n",
      "floor_area_sqm         0\n",
      "flat_model             0\n",
      "lease_commence_date    0\n",
      "resale_price           0\n",
      "dtype: int64\n",
      "------------------------\n",
      "Columns in df3:\n",
      "month                  0\n",
      "town                   0\n",
      "flat_type              0\n",
      "block                  0\n",
      "street_name            0\n",
      "storey_range           0\n",
      "floor_area_sqm         0\n",
      "flat_model             0\n",
      "lease_commence_date    0\n",
      "remaining_lease        0\n",
      "resale_price           0\n",
      "dtype: int64\n",
      "------------------------\n",
      "Columns in df4:\n",
      "month                  0\n",
      "town                   0\n",
      "flat_type              0\n",
      "block                  0\n",
      "street_name            0\n",
      "storey_range           0\n",
      "floor_area_sqm         0\n",
      "flat_model             0\n",
      "lease_commence_date    0\n",
      "resale_price           0\n",
      "dtype: int64\n",
      "------------------------\n",
      "Columns in df5:\n",
      "month                  0\n",
      "town                   0\n",
      "flat_type              0\n",
      "block                  0\n",
      "street_name            0\n",
      "storey_range           0\n",
      "floor_area_sqm         0\n",
      "flat_model             0\n",
      "lease_commence_date    0\n",
      "remaining_lease        0\n",
      "resale_price           0\n",
      "dtype: int64\n",
      "------------------------\n"
     ]
    }
   ],
   "source": [
    "for i, df in enumerate(dataframes, start=1):\n",
    "    print(f\"Columns in df{i}:\")\n",
    "    print(df.isnull().sum())\n",
    "    print(\"------------------------\")"
   ]
  },
  {
   "cell_type": "markdown",
   "id": "904a98e0",
   "metadata": {},
   "source": [
    "Definitions of columns in the dataset\n",
    "1. month: The month and year when the flat was officially registered as sold.\n",
    "2. town: The name of the town or estate where the flat is located\n",
    "3. flat_type: The type of flat based on the number of rooms \n",
    "4. block: The block number of the flat, used to identify the building.\n",
    "5. street_name: The name of the street where the flat is located\n",
    "6. storey_range: The range of floors the flat is located in\n",
    "7. floor_area_sqm: The size of the flat in square metres (sqm)\n",
    "8. flat_model: The design/model of the flat, based on HDB's architectural types\n",
    "9. lease_commence_date: The year the 99-year lease of the flat started. This helps determine how old the flat is\n",
    "10. remaining_lease: How many years are left on the lease at the time of sale. This affects the value of the flat\n",
    "11. resale_price: \tThe price (in SGD) that the flat was sold for in the resale market.\n"
   ]
  },
  {
   "cell_type": "code",
   "execution_count": 8,
   "id": "924542b8",
   "metadata": {},
   "outputs": [
    {
     "data": {
      "text/html": [
       "<div>\n",
       "<style scoped>\n",
       "    .dataframe tbody tr th:only-of-type {\n",
       "        vertical-align: middle;\n",
       "    }\n",
       "\n",
       "    .dataframe tbody tr th {\n",
       "        vertical-align: top;\n",
       "    }\n",
       "\n",
       "    .dataframe thead th {\n",
       "        text-align: right;\n",
       "    }\n",
       "</style>\n",
       "<table border=\"1\" class=\"dataframe\">\n",
       "  <thead>\n",
       "    <tr style=\"text-align: right;\">\n",
       "      <th></th>\n",
       "      <th>month</th>\n",
       "      <th>town</th>\n",
       "      <th>flat_type</th>\n",
       "      <th>block</th>\n",
       "      <th>street_name</th>\n",
       "      <th>storey_range</th>\n",
       "      <th>floor_area_sqm</th>\n",
       "      <th>flat_model</th>\n",
       "      <th>lease_commence_date</th>\n",
       "      <th>resale_price</th>\n",
       "    </tr>\n",
       "  </thead>\n",
       "  <tbody>\n",
       "    <tr>\n",
       "      <th>0</th>\n",
       "      <td>1990-01</td>\n",
       "      <td>ANG MO KIO</td>\n",
       "      <td>1 ROOM</td>\n",
       "      <td>309</td>\n",
       "      <td>ANG MO KIO AVE 1</td>\n",
       "      <td>10 TO 12</td>\n",
       "      <td>31.0</td>\n",
       "      <td>IMPROVED</td>\n",
       "      <td>1977</td>\n",
       "      <td>9000</td>\n",
       "    </tr>\n",
       "    <tr>\n",
       "      <th>1</th>\n",
       "      <td>1990-01</td>\n",
       "      <td>ANG MO KIO</td>\n",
       "      <td>1 ROOM</td>\n",
       "      <td>309</td>\n",
       "      <td>ANG MO KIO AVE 1</td>\n",
       "      <td>04 TO 06</td>\n",
       "      <td>31.0</td>\n",
       "      <td>IMPROVED</td>\n",
       "      <td>1977</td>\n",
       "      <td>6000</td>\n",
       "    </tr>\n",
       "    <tr>\n",
       "      <th>2</th>\n",
       "      <td>1990-01</td>\n",
       "      <td>ANG MO KIO</td>\n",
       "      <td>1 ROOM</td>\n",
       "      <td>309</td>\n",
       "      <td>ANG MO KIO AVE 1</td>\n",
       "      <td>10 TO 12</td>\n",
       "      <td>31.0</td>\n",
       "      <td>IMPROVED</td>\n",
       "      <td>1977</td>\n",
       "      <td>8000</td>\n",
       "    </tr>\n",
       "    <tr>\n",
       "      <th>3</th>\n",
       "      <td>1990-01</td>\n",
       "      <td>ANG MO KIO</td>\n",
       "      <td>1 ROOM</td>\n",
       "      <td>309</td>\n",
       "      <td>ANG MO KIO AVE 1</td>\n",
       "      <td>07 TO 09</td>\n",
       "      <td>31.0</td>\n",
       "      <td>IMPROVED</td>\n",
       "      <td>1977</td>\n",
       "      <td>6000</td>\n",
       "    </tr>\n",
       "    <tr>\n",
       "      <th>4</th>\n",
       "      <td>1990-01</td>\n",
       "      <td>ANG MO KIO</td>\n",
       "      <td>3 ROOM</td>\n",
       "      <td>216</td>\n",
       "      <td>ANG MO KIO AVE 1</td>\n",
       "      <td>04 TO 06</td>\n",
       "      <td>73.0</td>\n",
       "      <td>NEW GENERATION</td>\n",
       "      <td>1976</td>\n",
       "      <td>47200</td>\n",
       "    </tr>\n",
       "  </tbody>\n",
       "</table>\n",
       "</div>"
      ],
      "text/plain": [
       "     month        town flat_type block       street_name storey_range  \\\n",
       "0  1990-01  ANG MO KIO    1 ROOM   309  ANG MO KIO AVE 1     10 TO 12   \n",
       "1  1990-01  ANG MO KIO    1 ROOM   309  ANG MO KIO AVE 1     04 TO 06   \n",
       "2  1990-01  ANG MO KIO    1 ROOM   309  ANG MO KIO AVE 1     10 TO 12   \n",
       "3  1990-01  ANG MO KIO    1 ROOM   309  ANG MO KIO AVE 1     07 TO 09   \n",
       "4  1990-01  ANG MO KIO    3 ROOM   216  ANG MO KIO AVE 1     04 TO 06   \n",
       "\n",
       "   floor_area_sqm      flat_model  lease_commence_date  resale_price  \n",
       "0            31.0        IMPROVED                 1977          9000  \n",
       "1            31.0        IMPROVED                 1977          6000  \n",
       "2            31.0        IMPROVED                 1977          8000  \n",
       "3            31.0        IMPROVED                 1977          6000  \n",
       "4            73.0  NEW GENERATION                 1976         47200  "
      ]
     },
     "execution_count": 8,
     "metadata": {},
     "output_type": "execute_result"
    }
   ],
   "source": [
    "df1.head()"
   ]
  },
  {
   "cell_type": "code",
   "execution_count": 9,
   "id": "743f467e",
   "metadata": {},
   "outputs": [
    {
     "data": {
      "text/html": [
       "<div>\n",
       "<style scoped>\n",
       "    .dataframe tbody tr th:only-of-type {\n",
       "        vertical-align: middle;\n",
       "    }\n",
       "\n",
       "    .dataframe tbody tr th {\n",
       "        vertical-align: top;\n",
       "    }\n",
       "\n",
       "    .dataframe thead th {\n",
       "        text-align: right;\n",
       "    }\n",
       "</style>\n",
       "<table border=\"1\" class=\"dataframe\">\n",
       "  <thead>\n",
       "    <tr style=\"text-align: right;\">\n",
       "      <th></th>\n",
       "      <th>month</th>\n",
       "      <th>town</th>\n",
       "      <th>flat_type</th>\n",
       "      <th>block</th>\n",
       "      <th>street_name</th>\n",
       "      <th>storey_range</th>\n",
       "      <th>floor_area_sqm</th>\n",
       "      <th>flat_model</th>\n",
       "      <th>lease_commence_date</th>\n",
       "      <th>resale_price</th>\n",
       "    </tr>\n",
       "  </thead>\n",
       "  <tbody>\n",
       "    <tr>\n",
       "      <th>0</th>\n",
       "      <td>2000-01</td>\n",
       "      <td>ANG MO KIO</td>\n",
       "      <td>3 ROOM</td>\n",
       "      <td>170</td>\n",
       "      <td>ANG MO KIO AVE 4</td>\n",
       "      <td>07 TO 09</td>\n",
       "      <td>69.0</td>\n",
       "      <td>Improved</td>\n",
       "      <td>1986</td>\n",
       "      <td>147000.0</td>\n",
       "    </tr>\n",
       "    <tr>\n",
       "      <th>1</th>\n",
       "      <td>2000-01</td>\n",
       "      <td>ANG MO KIO</td>\n",
       "      <td>3 ROOM</td>\n",
       "      <td>174</td>\n",
       "      <td>ANG MO KIO AVE 4</td>\n",
       "      <td>04 TO 06</td>\n",
       "      <td>61.0</td>\n",
       "      <td>Improved</td>\n",
       "      <td>1986</td>\n",
       "      <td>144000.0</td>\n",
       "    </tr>\n",
       "    <tr>\n",
       "      <th>2</th>\n",
       "      <td>2000-01</td>\n",
       "      <td>ANG MO KIO</td>\n",
       "      <td>3 ROOM</td>\n",
       "      <td>216</td>\n",
       "      <td>ANG MO KIO AVE 1</td>\n",
       "      <td>07 TO 09</td>\n",
       "      <td>73.0</td>\n",
       "      <td>New Generation</td>\n",
       "      <td>1976</td>\n",
       "      <td>159000.0</td>\n",
       "    </tr>\n",
       "    <tr>\n",
       "      <th>3</th>\n",
       "      <td>2000-01</td>\n",
       "      <td>ANG MO KIO</td>\n",
       "      <td>3 ROOM</td>\n",
       "      <td>215</td>\n",
       "      <td>ANG MO KIO AVE 1</td>\n",
       "      <td>07 TO 09</td>\n",
       "      <td>73.0</td>\n",
       "      <td>New Generation</td>\n",
       "      <td>1976</td>\n",
       "      <td>167000.0</td>\n",
       "    </tr>\n",
       "    <tr>\n",
       "      <th>4</th>\n",
       "      <td>2000-01</td>\n",
       "      <td>ANG MO KIO</td>\n",
       "      <td>3 ROOM</td>\n",
       "      <td>218</td>\n",
       "      <td>ANG MO KIO AVE 1</td>\n",
       "      <td>07 TO 09</td>\n",
       "      <td>67.0</td>\n",
       "      <td>New Generation</td>\n",
       "      <td>1976</td>\n",
       "      <td>163000.0</td>\n",
       "    </tr>\n",
       "  </tbody>\n",
       "</table>\n",
       "</div>"
      ],
      "text/plain": [
       "     month        town flat_type block       street_name storey_range  \\\n",
       "0  2000-01  ANG MO KIO    3 ROOM   170  ANG MO KIO AVE 4     07 TO 09   \n",
       "1  2000-01  ANG MO KIO    3 ROOM   174  ANG MO KIO AVE 4     04 TO 06   \n",
       "2  2000-01  ANG MO KIO    3 ROOM   216  ANG MO KIO AVE 1     07 TO 09   \n",
       "3  2000-01  ANG MO KIO    3 ROOM   215  ANG MO KIO AVE 1     07 TO 09   \n",
       "4  2000-01  ANG MO KIO    3 ROOM   218  ANG MO KIO AVE 1     07 TO 09   \n",
       "\n",
       "   floor_area_sqm      flat_model  lease_commence_date  resale_price  \n",
       "0            69.0        Improved                 1986      147000.0  \n",
       "1            61.0        Improved                 1986      144000.0  \n",
       "2            73.0  New Generation                 1976      159000.0  \n",
       "3            73.0  New Generation                 1976      167000.0  \n",
       "4            67.0  New Generation                 1976      163000.0  "
      ]
     },
     "execution_count": 9,
     "metadata": {},
     "output_type": "execute_result"
    }
   ],
   "source": [
    "df2.head()"
   ]
  },
  {
   "cell_type": "code",
   "execution_count": 10,
   "id": "7f2b1159",
   "metadata": {},
   "outputs": [
    {
     "data": {
      "text/html": [
       "<div>\n",
       "<style scoped>\n",
       "    .dataframe tbody tr th:only-of-type {\n",
       "        vertical-align: middle;\n",
       "    }\n",
       "\n",
       "    .dataframe tbody tr th {\n",
       "        vertical-align: top;\n",
       "    }\n",
       "\n",
       "    .dataframe thead th {\n",
       "        text-align: right;\n",
       "    }\n",
       "</style>\n",
       "<table border=\"1\" class=\"dataframe\">\n",
       "  <thead>\n",
       "    <tr style=\"text-align: right;\">\n",
       "      <th></th>\n",
       "      <th>month</th>\n",
       "      <th>town</th>\n",
       "      <th>flat_type</th>\n",
       "      <th>block</th>\n",
       "      <th>street_name</th>\n",
       "      <th>storey_range</th>\n",
       "      <th>floor_area_sqm</th>\n",
       "      <th>flat_model</th>\n",
       "      <th>lease_commence_date</th>\n",
       "      <th>remaining_lease</th>\n",
       "      <th>resale_price</th>\n",
       "    </tr>\n",
       "  </thead>\n",
       "  <tbody>\n",
       "    <tr>\n",
       "      <th>0</th>\n",
       "      <td>2015-01</td>\n",
       "      <td>ANG MO KIO</td>\n",
       "      <td>3 ROOM</td>\n",
       "      <td>174</td>\n",
       "      <td>ANG MO KIO AVE 4</td>\n",
       "      <td>07 TO 09</td>\n",
       "      <td>60.0</td>\n",
       "      <td>Improved</td>\n",
       "      <td>1986</td>\n",
       "      <td>70</td>\n",
       "      <td>255000.0</td>\n",
       "    </tr>\n",
       "    <tr>\n",
       "      <th>1</th>\n",
       "      <td>2015-01</td>\n",
       "      <td>ANG MO KIO</td>\n",
       "      <td>3 ROOM</td>\n",
       "      <td>541</td>\n",
       "      <td>ANG MO KIO AVE 10</td>\n",
       "      <td>01 TO 03</td>\n",
       "      <td>68.0</td>\n",
       "      <td>New Generation</td>\n",
       "      <td>1981</td>\n",
       "      <td>65</td>\n",
       "      <td>275000.0</td>\n",
       "    </tr>\n",
       "    <tr>\n",
       "      <th>2</th>\n",
       "      <td>2015-01</td>\n",
       "      <td>ANG MO KIO</td>\n",
       "      <td>3 ROOM</td>\n",
       "      <td>163</td>\n",
       "      <td>ANG MO KIO AVE 4</td>\n",
       "      <td>01 TO 03</td>\n",
       "      <td>69.0</td>\n",
       "      <td>New Generation</td>\n",
       "      <td>1980</td>\n",
       "      <td>64</td>\n",
       "      <td>285000.0</td>\n",
       "    </tr>\n",
       "    <tr>\n",
       "      <th>3</th>\n",
       "      <td>2015-01</td>\n",
       "      <td>ANG MO KIO</td>\n",
       "      <td>3 ROOM</td>\n",
       "      <td>446</td>\n",
       "      <td>ANG MO KIO AVE 10</td>\n",
       "      <td>01 TO 03</td>\n",
       "      <td>68.0</td>\n",
       "      <td>New Generation</td>\n",
       "      <td>1979</td>\n",
       "      <td>63</td>\n",
       "      <td>290000.0</td>\n",
       "    </tr>\n",
       "    <tr>\n",
       "      <th>4</th>\n",
       "      <td>2015-01</td>\n",
       "      <td>ANG MO KIO</td>\n",
       "      <td>3 ROOM</td>\n",
       "      <td>557</td>\n",
       "      <td>ANG MO KIO AVE 10</td>\n",
       "      <td>07 TO 09</td>\n",
       "      <td>68.0</td>\n",
       "      <td>New Generation</td>\n",
       "      <td>1980</td>\n",
       "      <td>64</td>\n",
       "      <td>290000.0</td>\n",
       "    </tr>\n",
       "  </tbody>\n",
       "</table>\n",
       "</div>"
      ],
      "text/plain": [
       "     month        town flat_type block        street_name storey_range  \\\n",
       "0  2015-01  ANG MO KIO    3 ROOM   174   ANG MO KIO AVE 4     07 TO 09   \n",
       "1  2015-01  ANG MO KIO    3 ROOM   541  ANG MO KIO AVE 10     01 TO 03   \n",
       "2  2015-01  ANG MO KIO    3 ROOM   163   ANG MO KIO AVE 4     01 TO 03   \n",
       "3  2015-01  ANG MO KIO    3 ROOM   446  ANG MO KIO AVE 10     01 TO 03   \n",
       "4  2015-01  ANG MO KIO    3 ROOM   557  ANG MO KIO AVE 10     07 TO 09   \n",
       "\n",
       "   floor_area_sqm      flat_model  lease_commence_date  remaining_lease  \\\n",
       "0            60.0        Improved                 1986               70   \n",
       "1            68.0  New Generation                 1981               65   \n",
       "2            69.0  New Generation                 1980               64   \n",
       "3            68.0  New Generation                 1979               63   \n",
       "4            68.0  New Generation                 1980               64   \n",
       "\n",
       "   resale_price  \n",
       "0      255000.0  \n",
       "1      275000.0  \n",
       "2      285000.0  \n",
       "3      290000.0  \n",
       "4      290000.0  "
      ]
     },
     "execution_count": 10,
     "metadata": {},
     "output_type": "execute_result"
    }
   ],
   "source": [
    "df3.head()"
   ]
  },
  {
   "cell_type": "code",
   "execution_count": 11,
   "id": "f2d4579f",
   "metadata": {},
   "outputs": [
    {
     "data": {
      "text/html": [
       "<div>\n",
       "<style scoped>\n",
       "    .dataframe tbody tr th:only-of-type {\n",
       "        vertical-align: middle;\n",
       "    }\n",
       "\n",
       "    .dataframe tbody tr th {\n",
       "        vertical-align: top;\n",
       "    }\n",
       "\n",
       "    .dataframe thead th {\n",
       "        text-align: right;\n",
       "    }\n",
       "</style>\n",
       "<table border=\"1\" class=\"dataframe\">\n",
       "  <thead>\n",
       "    <tr style=\"text-align: right;\">\n",
       "      <th></th>\n",
       "      <th>month</th>\n",
       "      <th>town</th>\n",
       "      <th>flat_type</th>\n",
       "      <th>block</th>\n",
       "      <th>street_name</th>\n",
       "      <th>storey_range</th>\n",
       "      <th>floor_area_sqm</th>\n",
       "      <th>flat_model</th>\n",
       "      <th>lease_commence_date</th>\n",
       "      <th>resale_price</th>\n",
       "    </tr>\n",
       "  </thead>\n",
       "  <tbody>\n",
       "    <tr>\n",
       "      <th>0</th>\n",
       "      <td>2012-03</td>\n",
       "      <td>ANG MO KIO</td>\n",
       "      <td>2 ROOM</td>\n",
       "      <td>172</td>\n",
       "      <td>ANG MO KIO AVE 4</td>\n",
       "      <td>06 TO 10</td>\n",
       "      <td>45.0</td>\n",
       "      <td>Improved</td>\n",
       "      <td>1986</td>\n",
       "      <td>250000.0</td>\n",
       "    </tr>\n",
       "    <tr>\n",
       "      <th>1</th>\n",
       "      <td>2012-03</td>\n",
       "      <td>ANG MO KIO</td>\n",
       "      <td>2 ROOM</td>\n",
       "      <td>510</td>\n",
       "      <td>ANG MO KIO AVE 8</td>\n",
       "      <td>01 TO 05</td>\n",
       "      <td>44.0</td>\n",
       "      <td>Improved</td>\n",
       "      <td>1980</td>\n",
       "      <td>265000.0</td>\n",
       "    </tr>\n",
       "    <tr>\n",
       "      <th>2</th>\n",
       "      <td>2012-03</td>\n",
       "      <td>ANG MO KIO</td>\n",
       "      <td>3 ROOM</td>\n",
       "      <td>610</td>\n",
       "      <td>ANG MO KIO AVE 4</td>\n",
       "      <td>06 TO 10</td>\n",
       "      <td>68.0</td>\n",
       "      <td>New Generation</td>\n",
       "      <td>1980</td>\n",
       "      <td>315000.0</td>\n",
       "    </tr>\n",
       "    <tr>\n",
       "      <th>3</th>\n",
       "      <td>2012-03</td>\n",
       "      <td>ANG MO KIO</td>\n",
       "      <td>3 ROOM</td>\n",
       "      <td>474</td>\n",
       "      <td>ANG MO KIO AVE 10</td>\n",
       "      <td>01 TO 05</td>\n",
       "      <td>67.0</td>\n",
       "      <td>New Generation</td>\n",
       "      <td>1984</td>\n",
       "      <td>320000.0</td>\n",
       "    </tr>\n",
       "    <tr>\n",
       "      <th>4</th>\n",
       "      <td>2012-03</td>\n",
       "      <td>ANG MO KIO</td>\n",
       "      <td>3 ROOM</td>\n",
       "      <td>604</td>\n",
       "      <td>ANG MO KIO AVE 5</td>\n",
       "      <td>06 TO 10</td>\n",
       "      <td>67.0</td>\n",
       "      <td>New Generation</td>\n",
       "      <td>1980</td>\n",
       "      <td>321000.0</td>\n",
       "    </tr>\n",
       "  </tbody>\n",
       "</table>\n",
       "</div>"
      ],
      "text/plain": [
       "     month        town flat_type block        street_name storey_range  \\\n",
       "0  2012-03  ANG MO KIO    2 ROOM   172   ANG MO KIO AVE 4     06 TO 10   \n",
       "1  2012-03  ANG MO KIO    2 ROOM   510   ANG MO KIO AVE 8     01 TO 05   \n",
       "2  2012-03  ANG MO KIO    3 ROOM   610   ANG MO KIO AVE 4     06 TO 10   \n",
       "3  2012-03  ANG MO KIO    3 ROOM   474  ANG MO KIO AVE 10     01 TO 05   \n",
       "4  2012-03  ANG MO KIO    3 ROOM   604   ANG MO KIO AVE 5     06 TO 10   \n",
       "\n",
       "   floor_area_sqm      flat_model  lease_commence_date  resale_price  \n",
       "0            45.0        Improved                 1986      250000.0  \n",
       "1            44.0        Improved                 1980      265000.0  \n",
       "2            68.0  New Generation                 1980      315000.0  \n",
       "3            67.0  New Generation                 1984      320000.0  \n",
       "4            67.0  New Generation                 1980      321000.0  "
      ]
     },
     "execution_count": 11,
     "metadata": {},
     "output_type": "execute_result"
    }
   ],
   "source": [
    "df4.head()"
   ]
  },
  {
   "cell_type": "code",
   "execution_count": 12,
   "id": "3c592f64",
   "metadata": {},
   "outputs": [
    {
     "data": {
      "text/html": [
       "<div>\n",
       "<style scoped>\n",
       "    .dataframe tbody tr th:only-of-type {\n",
       "        vertical-align: middle;\n",
       "    }\n",
       "\n",
       "    .dataframe tbody tr th {\n",
       "        vertical-align: top;\n",
       "    }\n",
       "\n",
       "    .dataframe thead th {\n",
       "        text-align: right;\n",
       "    }\n",
       "</style>\n",
       "<table border=\"1\" class=\"dataframe\">\n",
       "  <thead>\n",
       "    <tr style=\"text-align: right;\">\n",
       "      <th></th>\n",
       "      <th>month</th>\n",
       "      <th>town</th>\n",
       "      <th>flat_type</th>\n",
       "      <th>block</th>\n",
       "      <th>street_name</th>\n",
       "      <th>storey_range</th>\n",
       "      <th>floor_area_sqm</th>\n",
       "      <th>flat_model</th>\n",
       "      <th>lease_commence_date</th>\n",
       "      <th>remaining_lease</th>\n",
       "      <th>resale_price</th>\n",
       "    </tr>\n",
       "  </thead>\n",
       "  <tbody>\n",
       "    <tr>\n",
       "      <th>0</th>\n",
       "      <td>2017-01</td>\n",
       "      <td>ANG MO KIO</td>\n",
       "      <td>2 ROOM</td>\n",
       "      <td>406</td>\n",
       "      <td>ANG MO KIO AVE 10</td>\n",
       "      <td>10 TO 12</td>\n",
       "      <td>44.0</td>\n",
       "      <td>Improved</td>\n",
       "      <td>1979</td>\n",
       "      <td>61 years 04 months</td>\n",
       "      <td>232000.0</td>\n",
       "    </tr>\n",
       "    <tr>\n",
       "      <th>1</th>\n",
       "      <td>2017-01</td>\n",
       "      <td>ANG MO KIO</td>\n",
       "      <td>3 ROOM</td>\n",
       "      <td>108</td>\n",
       "      <td>ANG MO KIO AVE 4</td>\n",
       "      <td>01 TO 03</td>\n",
       "      <td>67.0</td>\n",
       "      <td>New Generation</td>\n",
       "      <td>1978</td>\n",
       "      <td>60 years 07 months</td>\n",
       "      <td>250000.0</td>\n",
       "    </tr>\n",
       "    <tr>\n",
       "      <th>2</th>\n",
       "      <td>2017-01</td>\n",
       "      <td>ANG MO KIO</td>\n",
       "      <td>3 ROOM</td>\n",
       "      <td>602</td>\n",
       "      <td>ANG MO KIO AVE 5</td>\n",
       "      <td>01 TO 03</td>\n",
       "      <td>67.0</td>\n",
       "      <td>New Generation</td>\n",
       "      <td>1980</td>\n",
       "      <td>62 years 05 months</td>\n",
       "      <td>262000.0</td>\n",
       "    </tr>\n",
       "    <tr>\n",
       "      <th>3</th>\n",
       "      <td>2017-01</td>\n",
       "      <td>ANG MO KIO</td>\n",
       "      <td>3 ROOM</td>\n",
       "      <td>465</td>\n",
       "      <td>ANG MO KIO AVE 10</td>\n",
       "      <td>04 TO 06</td>\n",
       "      <td>68.0</td>\n",
       "      <td>New Generation</td>\n",
       "      <td>1980</td>\n",
       "      <td>62 years 01 month</td>\n",
       "      <td>265000.0</td>\n",
       "    </tr>\n",
       "    <tr>\n",
       "      <th>4</th>\n",
       "      <td>2017-01</td>\n",
       "      <td>ANG MO KIO</td>\n",
       "      <td>3 ROOM</td>\n",
       "      <td>601</td>\n",
       "      <td>ANG MO KIO AVE 5</td>\n",
       "      <td>01 TO 03</td>\n",
       "      <td>67.0</td>\n",
       "      <td>New Generation</td>\n",
       "      <td>1980</td>\n",
       "      <td>62 years 05 months</td>\n",
       "      <td>265000.0</td>\n",
       "    </tr>\n",
       "  </tbody>\n",
       "</table>\n",
       "</div>"
      ],
      "text/plain": [
       "     month        town flat_type block        street_name storey_range  \\\n",
       "0  2017-01  ANG MO KIO    2 ROOM   406  ANG MO KIO AVE 10     10 TO 12   \n",
       "1  2017-01  ANG MO KIO    3 ROOM   108   ANG MO KIO AVE 4     01 TO 03   \n",
       "2  2017-01  ANG MO KIO    3 ROOM   602   ANG MO KIO AVE 5     01 TO 03   \n",
       "3  2017-01  ANG MO KIO    3 ROOM   465  ANG MO KIO AVE 10     04 TO 06   \n",
       "4  2017-01  ANG MO KIO    3 ROOM   601   ANG MO KIO AVE 5     01 TO 03   \n",
       "\n",
       "   floor_area_sqm      flat_model  lease_commence_date     remaining_lease  \\\n",
       "0            44.0        Improved                 1979  61 years 04 months   \n",
       "1            67.0  New Generation                 1978  60 years 07 months   \n",
       "2            67.0  New Generation                 1980  62 years 05 months   \n",
       "3            68.0  New Generation                 1980   62 years 01 month   \n",
       "4            67.0  New Generation                 1980  62 years 05 months   \n",
       "\n",
       "   resale_price  \n",
       "0      232000.0  \n",
       "1      250000.0  \n",
       "2      262000.0  \n",
       "3      265000.0  \n",
       "4      265000.0  "
      ]
     },
     "execution_count": 12,
     "metadata": {},
     "output_type": "execute_result"
    }
   ],
   "source": [
    "df5.head()"
   ]
  },
  {
   "cell_type": "markdown",
   "id": "7ed271e6",
   "metadata": {},
   "source": [
    "The 3rd and 5th dataframes contain an extra column \"remaining_lease\" while the other dataframes do not. Before determining whether or not the extra column should be modified in any way, we need to find out if \"remaining_lease\" has any correlation with the resale_price of HDB flats.\n",
    "\n",
    "The \"remaining lease\" column in df5 contains string values in comparison to df3 where the \"remaining_lease\" column contains integer values\n",
    "\n",
    "First we will take a look at the resale_price distribution of each dataset\n"
   ]
  },
  {
   "cell_type": "code",
   "execution_count": 13,
   "id": "577ece64",
   "metadata": {},
   "outputs": [
    {
     "data": {
      "image/png": "[encoded data removed]",
      "text/plain": [
       "<Figure size 432x288 with 1 Axes>"
      ]
     },
     "metadata": {
      "needs_background": "light"
     },
     "output_type": "display_data"
    },
    {
     "name": "stdout",
     "output_type": "stream",
     "text": [
      "------------------------\n"
     ]
    },
    {
     "data": {
      "image/png": "[encoded data removed]",
      "text/plain": [
       "<Figure size 432x288 with 1 Axes>"
      ]
     },
     "metadata": {
      "needs_background": "light"
     },
     "output_type": "display_data"
    },
    {
     "name": "stdout",
     "output_type": "stream",
     "text": [
      "------------------------\n"
     ]
    },
    {
     "data": {
      "image/png": "[encoded data removed]",
      "text/plain": [
       "<Figure size 432x288 with 1 Axes>"
      ]
     },
     "metadata": {
      "needs_background": "light"
     },
     "output_type": "display_data"
    },
    {
     "name": "stdout",
     "output_type": "stream",
     "text": [
      "------------------------\n"
     ]
    },
    {
     "data": {
      "image/png": "[encoded data removed]",
      "text/plain": [
       "<Figure size 432x288 with 1 Axes>"
      ]
     },
     "metadata": {
      "needs_background": "light"
     },
     "output_type": "display_data"
    },
    {
     "name": "stdout",
     "output_type": "stream",
     "text": [
      "------------------------\n"
     ]
    },
    {
     "data": {
      "image/png": "[encoded data removed]",
      "text/plain": [
       "<Figure size 432x288 with 1 Axes>"
      ]
     },
     "metadata": {
      "needs_background": "light"
     },
     "output_type": "display_data"
    },
    {
     "name": "stdout",
     "output_type": "stream",
     "text": [
      "------------------------\n"
     ]
    }
   ],
   "source": [
    "for i, df in enumerate(dataframes, start=1):\n",
    "    sns.histplot(x= 'resale_price', data=df2, bins = 20)\n",
    "    plt.title(f\"Price of HDB for df{i}\")\n",
    "    plt.show()\n",
    "    print(\"------------------------\")\n",
    "    "
   ]
  },
  {
   "cell_type": "markdown",
   "id": "ec0b06df",
   "metadata": {},
   "source": [
    "All the resale prices in datasets are right-skewed"
   ]
  },
  {
   "cell_type": "markdown",
   "id": "4824d3e0",
   "metadata": {},
   "source": [
    "## Feature Engineering"
   ]
  },
  {
   "cell_type": "markdown",
   "id": "d7149b7e",
   "metadata": {},
   "source": [
    "Firstly, the \"remaining_lease\" column in df5 will be converted into a float. Using the convert_lease_to_years function, the values in the column are split using the.split() method and the months are divided by 12 to be added back to the years. And the float value will finally be updated to the original dateset "
   ]
  },
  {
   "cell_type": "code",
   "execution_count": 14,
   "id": "98172212",
   "metadata": {},
   "outputs": [],
   "source": [
    "# def convert_lease_to_years(remaining_lease):\n",
    "#     # isinstance() used to check for the column datatype \n",
    "#     if isinstance(remaining_lease, str) or isinstance(remaining_lease,int):\n",
    "#         # .split() to break the strings apart. [\"61\", \"years\", \"04\", \"months\"]\n",
    "#         parts = remaining_lease.split()\n",
    "#         # Using indexing to get years\n",
    "#         years = int(parts[0])\n",
    "#         # To get the months \n",
    "#         months = int(parts[2]) if len(parts) > 2 else 0\n",
    "#         # The months are divided by 12 and added to the years\n",
    "#         return years + months / 12\n",
    "#     else:\n",
    "#         return None  \n",
    "\n",
    "# # Passing the function to df5 \n",
    "# df5['remaining_lease'] = df5['remaining_lease'].apply(convert_lease_to_years).round(1)\n"
   ]
  },
  {
   "cell_type": "markdown",
   "id": "1da1d218",
   "metadata": {},
   "source": [
    "The \"reamining_lease\" column in df5 is now converted from a string to a float"
   ]
  },
  {
   "cell_type": "code",
   "execution_count": 15,
   "id": "f545576e",
   "metadata": {},
   "outputs": [],
   "source": [
    "# df5.head()"
   ]
  },
  {
   "cell_type": "code",
   "execution_count": 16,
   "id": "4c5d640c",
   "metadata": {},
   "outputs": [],
   "source": [
    "# df5.info()"
   ]
  },
  {
   "cell_type": "markdown",
   "id": "b544122b",
   "metadata": {},
   "source": [
    "### Correlation Matrix "
   ]
  },
  {
   "cell_type": "markdown",
   "id": "3d415829",
   "metadata": {},
   "source": [
    "Finding the Correlation between Numerical Variables and HDB Resale Price for each CSV file\n",
    "\n",
    "1  - Perfect Positive Relationship (when one goes up, the other also goes up)\\\n",
    "0  - No relationship at all \\\n",
    "-1 - Perfect negative Relationship (when one goes up, the other goes down)"
   ]
  },
  {
   "cell_type": "code",
   "execution_count": 17,
   "id": "d09d9cb0",
   "metadata": {},
   "outputs": [
    {
     "data": {
      "image/png": "[encoded data removed]",
      "text/plain": [
       "<Figure size 432x288 with 2 Axes>"
      ]
     },
     "metadata": {
      "needs_background": "light"
     },
     "output_type": "display_data"
    }
   ],
   "source": [
    "corr_matrix = df1.corr()\n",
    "sns.heatmap(corr_matrix, annot=True, cmap=\"coolwarm\")\n",
    "plt.title(\"Correlation Matrix\")\n",
    "plt.show()"
   ]
  },
  {
   "cell_type": "code",
   "execution_count": 18,
   "id": "d29aaaa1",
   "metadata": {},
   "outputs": [
    {
     "data": {
      "image/png": "[encoded data removed]",
      "text/plain": [
       "<Figure size 432x288 with 2 Axes>"
      ]
     },
     "metadata": {
      "needs_background": "light"
     },
     "output_type": "display_data"
    }
   ],
   "source": [
    "corr_matrix = df2.corr()\n",
    "sns.heatmap(corr_matrix, annot=True, cmap=\"coolwarm\")\n",
    "plt.title(\"Correlation Matrix\")\n",
    "plt.show()"
   ]
  },
  {
   "cell_type": "code",
   "execution_count": 19,
   "id": "71552926",
   "metadata": {},
   "outputs": [
    {
     "data": {
      "image/png": "[encoded data removed]",
      "text/plain": [
       "<Figure size 432x288 with 2 Axes>"
      ]
     },
     "metadata": {
      "needs_background": "light"
     },
     "output_type": "display_data"
    }
   ],
   "source": [
    "corr_matrix = df3.corr()\n",
    "sns.heatmap(corr_matrix, annot=True, cmap=\"coolwarm\")\n",
    "plt.title(\"Correlation Matrix\")\n",
    "plt.show()"
   ]
  },
  {
   "cell_type": "code",
   "execution_count": 20,
   "id": "d0b0f048",
   "metadata": {},
   "outputs": [
    {
     "data": {
      "image/png": "[encoded data removed]",
      "text/plain": [
       "<Figure size 432x288 with 2 Axes>"
      ]
     },
     "metadata": {
      "needs_background": "light"
     },
     "output_type": "display_data"
    }
   ],
   "source": [
    "corr_matrix = df4.corr()\n",
    "sns.heatmap(corr_matrix, annot=True, cmap=\"coolwarm\")\n",
    "plt.title(\"Correlation Matrix\")\n",
    "plt.show()"
   ]
  },
  {
   "cell_type": "code",
   "execution_count": 21,
   "id": "9a58a994",
   "metadata": {},
   "outputs": [
    {
     "data": {
      "image/png": "[encoded data removed]",
      "text/plain": [
       "<Figure size 432x288 with 2 Axes>"
      ]
     },
     "metadata": {
      "needs_background": "light"
     },
     "output_type": "display_data"
    }
   ],
   "source": [
    "corr_matrix = df5.corr()\n",
    "sns.heatmap(corr_matrix, annot=True, cmap=\"coolwarm\")\n",
    "plt.title(\"Correlation Matrix\")\n",
    "plt.show()"
   ]
  },
  {
   "cell_type": "markdown",
   "id": "81a56533",
   "metadata": {},
   "source": [
    "After viewing the correlation matrix, we can conclude that the \"floor_area_sqm\" variable has a positive correlation with \"resale_price\" which is the target variable (0.58 - 0.8). This means the larger the flat, the higher the resale price\\\n",
    "\n",
    "\"remaining_lease\" has a moderately strong positive correlation to the resale price with the values ranging from 0.37 to 0.51. Therefore it would be useful to keep the \"remaining_lease\"\\\n",
    "\n",
    "In that case, dropping the \"remaining_lease\" column could remove domain knowledge. Since the other 3 CSV files do not have the \"remaining_lease\" column, we can use the \"month\" and \"lease_commence_date\" to calculate the remaining_lease. The formula that we will be using is:\\\n",
    "remaining_lease = month - lease_commence_date\n",
    "\n",
    "Furthermore, the \"remaining_lease\" column in the 5th CSV file is a string as it consists of values such as \"61 years 04 months\" which is a string. We can convert the string into a float so that it we can see how much correlation does \"remaining_lease\" have in the combined CSV file. \n",
    "\n",
    "The convert_remaining_lease_to_years method takes in 1 arguement which is a value from the \"remaining_lease\" column of the dataframe. It then uses the isInstance method to check for integers and floats. The reason we are changing Integers to floats (in the 3rd CSV) is because if we keep it as an Int, it will not be handled properly and will Nan after using .apply(). Therefore all Integers will become floats by adding a \".0\" at the end.\\ \n",
    "\n",
    "The process_csv method finds all the CSV files within a folder and it first extracts the year component from the \"month\" column. Next checks if \"remaining_lease\" and \"lease_commence_date\" columns exists in data frame. It then generates a \"sale_year\" column which is extracting the year out of the \"month\" column. It calculates the number of years used by subtracting lease_commence_date from the year of sale (sale_year), and then subtracts that from 99 to get the remaining_lease at the time of sale.. The sale_year column is then dropped\\ \n",
    "\n",
    "The process_csv method then calls the convert_remaining_lease_to_years method and applies it to the \"remaining_lease\" column to convert all values into floats"
   ]
  },
  {
   "cell_type": "code",
   "execution_count": 22,
   "id": "d3a63762",
   "metadata": {},
   "outputs": [],
   "source": [
    "def convert_remaining_lease_to_years(remaining_lease):\n",
    "    if isinstance(remaining_lease, (int, float)):\n",
    "        return float(remaining_lease)\n",
    "    \n",
    "    elif isinstance(remaining_lease, str):\n",
    "        parts = remaining_lease.lower().replace(\"and\", \"\").split()\n",
    "        \n",
    "        years = 0\n",
    "        months = 0\n",
    "        \n",
    "        for i in range(len(parts)):\n",
    "            if parts[i] == \"years\":\n",
    "                years = int(parts[i - 1])\n",
    "            elif parts[i] == \"months\":\n",
    "                months = int(parts[i - 1])\n",
    "                \n",
    "        return years + months / 12\n",
    "    \n",
    "    else:\n",
    "        return None"
   ]
  },
  {
   "cell_type": "code",
   "execution_count": 23,
   "id": "eec285f1",
   "metadata": {},
   "outputs": [
    {
     "name": "stdout",
     "output_type": "stream",
     "text": [
      "Files Concatenated and Standardized Successfully\n"
     ]
    }
   ],
   "source": [
    "def process_csv(folder_path):\n",
    "    files = glob.glob(os.path.join(folder_path, \"*.csv\"))\n",
    "    dfs = []\n",
    "\n",
    "    for file in files:\n",
    "        df = pd.read_csv(file)\n",
    "\n",
    "        # Ensure 'month' is in datetime format\n",
    "        df['month'] = pd.to_datetime(df['month'], format='%Y-%m', errors='coerce')\n",
    "\n",
    "        # If 'remaining_lease' is missing, generate it from lease_commence_date\n",
    "        if 'remaining_lease' not in df.columns and 'lease_commence_date' in df.columns:\n",
    "            df['sale_year'] = df['month'].dt.year\n",
    "            df['remaining_lease'] = 99 - (df['sale_year'] - df['lease_commence_date'])\n",
    "            df.drop(columns='sale_year', inplace=True)\n",
    "\n",
    "        # Now convert all 'remaining_lease' to float using unified method\n",
    "        df['remaining_lease'] = df['remaining_lease'].apply(convert_remaining_lease_to_years)\n",
    "\n",
    "        dfs.append(df)\n",
    "\n",
    "    combined_df = pd.concat(dfs, ignore_index=True)\n",
    "    print(\"Files Concatenated and Standardized Successfully\")\n",
    "\n",
    "    return combined_df\n",
    "\n",
    "\n",
    "folder_path = r\"C:\\Users\\basbh\\Documents\\Projects\\ipynb_python_files\\ResaleFlatPrices\"\n",
    "final_df = process_csv(folder_path)\n",
    "\n",
    "# Save final result\n",
    "# final_df.to_csv(\"final_combined.csv\", index=False)\n"
   ]
  },
  {
   "cell_type": "markdown",
   "id": "2f498efa",
   "metadata": {},
   "source": [
    "### Concatenating 5 CSV files into 1"
   ]
  },
  {
   "cell_type": "code",
   "execution_count": 24,
   "id": "1cc541ac",
   "metadata": {},
   "outputs": [
    {
     "name": "stdout",
     "output_type": "stream",
     "text": [
      "<class 'pandas.core.frame.DataFrame'>\n",
      "RangeIndex: 955128 entries, 0 to 955127\n",
      "Data columns (total 11 columns):\n",
      " #   Column               Non-Null Count   Dtype  \n",
      "---  ------               --------------   -----  \n",
      " 0   month                955128 non-null  object \n",
      " 1   town                 955128 non-null  object \n",
      " 2   flat_type            955128 non-null  object \n",
      " 3   block                955128 non-null  object \n",
      " 4   street_name          955128 non-null  object \n",
      " 5   storey_range         955128 non-null  object \n",
      " 6   floor_area_sqm       955128 non-null  float64\n",
      " 7   flat_model           955128 non-null  object \n",
      " 8   lease_commence_date  955128 non-null  int64  \n",
      " 9   resale_price         955128 non-null  float64\n",
      " 10  remaining_lease      955128 non-null  float64\n",
      "dtypes: float64(3), int64(1), object(7)\n",
      "memory usage: 80.2+ MB\n"
     ]
    }
   ],
   "source": [
    "df_combined = pd.read_csv(r\"C:\\Users\\basbh\\Documents\\Projects\\ipynb_python_files\\final_combined.csv\")\n",
    "df_combined.info()"
   ]
  },
  {
   "cell_type": "code",
   "execution_count": 25,
   "id": "7af979c1",
   "metadata": {},
   "outputs": [
    {
     "data": {
      "text/html": [
       "<div>\n",
       "<style scoped>\n",
       "    .dataframe tbody tr th:only-of-type {\n",
       "        vertical-align: middle;\n",
       "    }\n",
       "\n",
       "    .dataframe tbody tr th {\n",
       "        vertical-align: top;\n",
       "    }\n",
       "\n",
       "    .dataframe thead th {\n",
       "        text-align: right;\n",
       "    }\n",
       "</style>\n",
       "<table border=\"1\" class=\"dataframe\">\n",
       "  <thead>\n",
       "    <tr style=\"text-align: right;\">\n",
       "      <th></th>\n",
       "      <th>month</th>\n",
       "      <th>town</th>\n",
       "      <th>flat_type</th>\n",
       "      <th>block</th>\n",
       "      <th>street_name</th>\n",
       "      <th>storey_range</th>\n",
       "      <th>floor_area_sqm</th>\n",
       "      <th>flat_model</th>\n",
       "      <th>lease_commence_date</th>\n",
       "      <th>resale_price</th>\n",
       "      <th>remaining_lease</th>\n",
       "    </tr>\n",
       "  </thead>\n",
       "  <tbody>\n",
       "    <tr>\n",
       "      <th>0</th>\n",
       "      <td>1990-01-01</td>\n",
       "      <td>ANG MO KIO</td>\n",
       "      <td>1 ROOM</td>\n",
       "      <td>309</td>\n",
       "      <td>ANG MO KIO AVE 1</td>\n",
       "      <td>10 TO 12</td>\n",
       "      <td>31.0</td>\n",
       "      <td>IMPROVED</td>\n",
       "      <td>1977</td>\n",
       "      <td>9000.0</td>\n",
       "      <td>86.0</td>\n",
       "    </tr>\n",
       "    <tr>\n",
       "      <th>1</th>\n",
       "      <td>1990-01-01</td>\n",
       "      <td>ANG MO KIO</td>\n",
       "      <td>1 ROOM</td>\n",
       "      <td>309</td>\n",
       "      <td>ANG MO KIO AVE 1</td>\n",
       "      <td>04 TO 06</td>\n",
       "      <td>31.0</td>\n",
       "      <td>IMPROVED</td>\n",
       "      <td>1977</td>\n",
       "      <td>6000.0</td>\n",
       "      <td>86.0</td>\n",
       "    </tr>\n",
       "    <tr>\n",
       "      <th>2</th>\n",
       "      <td>1990-01-01</td>\n",
       "      <td>ANG MO KIO</td>\n",
       "      <td>1 ROOM</td>\n",
       "      <td>309</td>\n",
       "      <td>ANG MO KIO AVE 1</td>\n",
       "      <td>10 TO 12</td>\n",
       "      <td>31.0</td>\n",
       "      <td>IMPROVED</td>\n",
       "      <td>1977</td>\n",
       "      <td>8000.0</td>\n",
       "      <td>86.0</td>\n",
       "    </tr>\n",
       "    <tr>\n",
       "      <th>3</th>\n",
       "      <td>1990-01-01</td>\n",
       "      <td>ANG MO KIO</td>\n",
       "      <td>1 ROOM</td>\n",
       "      <td>309</td>\n",
       "      <td>ANG MO KIO AVE 1</td>\n",
       "      <td>07 TO 09</td>\n",
       "      <td>31.0</td>\n",
       "      <td>IMPROVED</td>\n",
       "      <td>1977</td>\n",
       "      <td>6000.0</td>\n",
       "      <td>86.0</td>\n",
       "    </tr>\n",
       "    <tr>\n",
       "      <th>4</th>\n",
       "      <td>1990-01-01</td>\n",
       "      <td>ANG MO KIO</td>\n",
       "      <td>3 ROOM</td>\n",
       "      <td>216</td>\n",
       "      <td>ANG MO KIO AVE 1</td>\n",
       "      <td>04 TO 06</td>\n",
       "      <td>73.0</td>\n",
       "      <td>NEW GENERATION</td>\n",
       "      <td>1976</td>\n",
       "      <td>47200.0</td>\n",
       "      <td>85.0</td>\n",
       "    </tr>\n",
       "  </tbody>\n",
       "</table>\n",
       "</div>"
      ],
      "text/plain": [
       "        month        town flat_type block       street_name storey_range  \\\n",
       "0  1990-01-01  ANG MO KIO    1 ROOM   309  ANG MO KIO AVE 1     10 TO 12   \n",
       "1  1990-01-01  ANG MO KIO    1 ROOM   309  ANG MO KIO AVE 1     04 TO 06   \n",
       "2  1990-01-01  ANG MO KIO    1 ROOM   309  ANG MO KIO AVE 1     10 TO 12   \n",
       "3  1990-01-01  ANG MO KIO    1 ROOM   309  ANG MO KIO AVE 1     07 TO 09   \n",
       "4  1990-01-01  ANG MO KIO    3 ROOM   216  ANG MO KIO AVE 1     04 TO 06   \n",
       "\n",
       "   floor_area_sqm      flat_model  lease_commence_date  resale_price  \\\n",
       "0            31.0        IMPROVED                 1977        9000.0   \n",
       "1            31.0        IMPROVED                 1977        6000.0   \n",
       "2            31.0        IMPROVED                 1977        8000.0   \n",
       "3            31.0        IMPROVED                 1977        6000.0   \n",
       "4            73.0  NEW GENERATION                 1976       47200.0   \n",
       "\n",
       "   remaining_lease  \n",
       "0             86.0  \n",
       "1             86.0  \n",
       "2             86.0  \n",
       "3             86.0  \n",
       "4             85.0  "
      ]
     },
     "execution_count": 25,
     "metadata": {},
     "output_type": "execute_result"
    }
   ],
   "source": [
    "df_combined.head()"
   ]
  },
  {
   "cell_type": "code",
   "execution_count": 26,
   "id": "76783a3e",
   "metadata": {},
   "outputs": [
    {
     "data": {
      "text/html": [
       "<div>\n",
       "<style scoped>\n",
       "    .dataframe tbody tr th:only-of-type {\n",
       "        vertical-align: middle;\n",
       "    }\n",
       "\n",
       "    .dataframe tbody tr th {\n",
       "        vertical-align: top;\n",
       "    }\n",
       "\n",
       "    .dataframe thead th {\n",
       "        text-align: right;\n",
       "    }\n",
       "</style>\n",
       "<table border=\"1\" class=\"dataframe\">\n",
       "  <thead>\n",
       "    <tr style=\"text-align: right;\">\n",
       "      <th></th>\n",
       "      <th>month</th>\n",
       "      <th>town</th>\n",
       "      <th>flat_type</th>\n",
       "      <th>block</th>\n",
       "      <th>street_name</th>\n",
       "      <th>storey_range</th>\n",
       "      <th>floor_area_sqm</th>\n",
       "      <th>flat_model</th>\n",
       "      <th>lease_commence_date</th>\n",
       "      <th>resale_price</th>\n",
       "      <th>remaining_lease</th>\n",
       "    </tr>\n",
       "  </thead>\n",
       "  <tbody>\n",
       "    <tr>\n",
       "      <th>955123</th>\n",
       "      <td>2025-02-01</td>\n",
       "      <td>YISHUN</td>\n",
       "      <td>EXECUTIVE</td>\n",
       "      <td>826</td>\n",
       "      <td>YISHUN ST 81</td>\n",
       "      <td>10 TO 12</td>\n",
       "      <td>146.0</td>\n",
       "      <td>Maisonette</td>\n",
       "      <td>1988</td>\n",
       "      <td>1100888.0</td>\n",
       "      <td>62.00</td>\n",
       "    </tr>\n",
       "    <tr>\n",
       "      <th>955124</th>\n",
       "      <td>2025-04-01</td>\n",
       "      <td>YISHUN</td>\n",
       "      <td>EXECUTIVE</td>\n",
       "      <td>877</td>\n",
       "      <td>YISHUN ST 81</td>\n",
       "      <td>07 TO 09</td>\n",
       "      <td>142.0</td>\n",
       "      <td>Apartment</td>\n",
       "      <td>1987</td>\n",
       "      <td>988000.0</td>\n",
       "      <td>61.75</td>\n",
       "    </tr>\n",
       "    <tr>\n",
       "      <th>955125</th>\n",
       "      <td>2025-04-01</td>\n",
       "      <td>YISHUN</td>\n",
       "      <td>EXECUTIVE</td>\n",
       "      <td>828</td>\n",
       "      <td>YISHUN ST 81</td>\n",
       "      <td>04 TO 06</td>\n",
       "      <td>146.0</td>\n",
       "      <td>Maisonette</td>\n",
       "      <td>1988</td>\n",
       "      <td>975000.0</td>\n",
       "      <td>61.75</td>\n",
       "    </tr>\n",
       "    <tr>\n",
       "      <th>955126</th>\n",
       "      <td>2025-05-01</td>\n",
       "      <td>YISHUN</td>\n",
       "      <td>EXECUTIVE</td>\n",
       "      <td>828</td>\n",
       "      <td>YISHUN ST 81</td>\n",
       "      <td>04 TO 06</td>\n",
       "      <td>142.0</td>\n",
       "      <td>Apartment</td>\n",
       "      <td>1988</td>\n",
       "      <td>1000000.0</td>\n",
       "      <td>61.75</td>\n",
       "    </tr>\n",
       "    <tr>\n",
       "      <th>955127</th>\n",
       "      <td>2025-05-01</td>\n",
       "      <td>YISHUN</td>\n",
       "      <td>MULTI-GENERATION</td>\n",
       "      <td>632</td>\n",
       "      <td>YISHUN ST 61</td>\n",
       "      <td>04 TO 06</td>\n",
       "      <td>147.0</td>\n",
       "      <td>Multi Generation</td>\n",
       "      <td>1987</td>\n",
       "      <td>945000.0</td>\n",
       "      <td>61.50</td>\n",
       "    </tr>\n",
       "  </tbody>\n",
       "</table>\n",
       "</div>"
      ],
      "text/plain": [
       "             month    town         flat_type block   street_name storey_range  \\\n",
       "955123  2025-02-01  YISHUN         EXECUTIVE   826  YISHUN ST 81     10 TO 12   \n",
       "955124  2025-04-01  YISHUN         EXECUTIVE   877  YISHUN ST 81     07 TO 09   \n",
       "955125  2025-04-01  YISHUN         EXECUTIVE   828  YISHUN ST 81     04 TO 06   \n",
       "955126  2025-05-01  YISHUN         EXECUTIVE   828  YISHUN ST 81     04 TO 06   \n",
       "955127  2025-05-01  YISHUN  MULTI-GENERATION   632  YISHUN ST 61     04 TO 06   \n",
       "\n",
       "        floor_area_sqm        flat_model  lease_commence_date  resale_price  \\\n",
       "955123           146.0        Maisonette                 1988     1100888.0   \n",
       "955124           142.0         Apartment                 1987      988000.0   \n",
       "955125           146.0        Maisonette                 1988      975000.0   \n",
       "955126           142.0         Apartment                 1988     1000000.0   \n",
       "955127           147.0  Multi Generation                 1987      945000.0   \n",
       "\n",
       "        remaining_lease  \n",
       "955123            62.00  \n",
       "955124            61.75  \n",
       "955125            61.75  \n",
       "955126            61.75  \n",
       "955127            61.50  "
      ]
     },
     "execution_count": 26,
     "metadata": {},
     "output_type": "execute_result"
    }
   ],
   "source": [
    "df_combined.tail()"
   ]
  },
  {
   "cell_type": "code",
   "execution_count": 27,
   "id": "b43c65d9",
   "metadata": {},
   "outputs": [
    {
     "data": {
      "text/plain": [
       "array(['1 ROOM', '3 ROOM', '4 ROOM', '5 ROOM', '2 ROOM', 'EXECUTIVE',\n",
       "       'MULTI GENERATION', 'MULTI-GENERATION'], dtype=object)"
      ]
     },
     "execution_count": 27,
     "metadata": {},
     "output_type": "execute_result"
    }
   ],
   "source": [
    "df_combined['flat_type'].unique()"
   ]
  },
  {
   "cell_type": "markdown",
   "id": "b92bf76f",
   "metadata": {},
   "source": [
    "From the flat_type column, we can see that there are duplicated values (MULTI GENERATION). Therefore we can standardize and group them together by doing some feature engineering and removing the \"-\". This could be due to the inconsistencies in different csv files "
   ]
  },
  {
   "cell_type": "code",
   "execution_count": 28,
   "id": "013a03e5",
   "metadata": {},
   "outputs": [],
   "source": [
    "df_combined['flat_type'] = df_combined['flat_type'].str.replace('-', ' ')"
   ]
  },
  {
   "cell_type": "markdown",
   "id": "01f819a6",
   "metadata": {},
   "source": [
    "Next we can remove leading and trailing charcaters and whitespaces"
   ]
  },
  {
   "cell_type": "code",
   "execution_count": 29,
   "id": "44b3789c",
   "metadata": {},
   "outputs": [],
   "source": [
    "df_combined['flat_type'] = df_combined['flat_type'].str.strip().str.title()"
   ]
  },
  {
   "cell_type": "markdown",
   "id": "e07616d7",
   "metadata": {},
   "source": [
    "Double check if the code worked"
   ]
  },
  {
   "cell_type": "code",
   "execution_count": 30,
   "id": "cfe41509",
   "metadata": {},
   "outputs": [
    {
     "data": {
      "text/plain": [
       "array(['1 Room', '3 Room', '4 Room', '5 Room', '2 Room', 'Executive',\n",
       "       'Multi Generation'], dtype=object)"
      ]
     },
     "execution_count": 30,
     "metadata": {},
     "output_type": "execute_result"
    }
   ],
   "source": [
    "df_combined['flat_type'].unique()"
   ]
  },
  {
   "cell_type": "code",
   "execution_count": 31,
   "id": "424f3c70",
   "metadata": {},
   "outputs": [
    {
     "data": {
      "text/plain": [
       "array(['IMPROVED', 'NEW GENERATION', 'MODEL A', 'STANDARD', 'SIMPLIFIED',\n",
       "       'MODEL A-MAISONETTE', 'APARTMENT', 'MAISONETTE', 'TERRACE',\n",
       "       '2-ROOM', 'IMPROVED-MAISONETTE', 'MULTI GENERATION',\n",
       "       'PREMIUM APARTMENT', 'Improved', 'New Generation', 'Model A',\n",
       "       'Standard', 'Apartment', 'Simplified', 'Model A-Maisonette',\n",
       "       'Maisonette', 'Multi Generation', 'Adjoined flat',\n",
       "       'Premium Apartment', 'Terrace', 'Improved-Maisonette',\n",
       "       'Premium Maisonette', '2-room', 'Model A2', 'Type S1', 'Type S2',\n",
       "       'DBSS', 'Premium Apartment Loft', '3Gen'], dtype=object)"
      ]
     },
     "execution_count": 31,
     "metadata": {},
     "output_type": "execute_result"
    }
   ],
   "source": [
    "df_combined['flat_model'].unique()"
   ]
  },
  {
   "cell_type": "markdown",
   "id": "edd4a75f",
   "metadata": {},
   "source": [
    "There are duplicated values with the same meaning. Therefore we can use .title() to standardize the flat_models"
   ]
  },
  {
   "cell_type": "code",
   "execution_count": 32,
   "id": "33a5c5fd",
   "metadata": {},
   "outputs": [],
   "source": [
    "df_combined['flat_model'] = df_combined['flat_model'].str.strip().str.title()"
   ]
  },
  {
   "cell_type": "code",
   "execution_count": 33,
   "id": "58534565",
   "metadata": {},
   "outputs": [
    {
     "name": "stdout",
     "output_type": "stream",
     "text": [
      "['Improved' 'New Generation' 'Model A' 'Standard' 'Simplified'\n",
      " 'Model A-Maisonette' 'Apartment' 'Maisonette' 'Terrace' '2-Room'\n",
      " 'Improved-Maisonette' 'Multi Generation' 'Premium Apartment'\n",
      " 'Adjoined Flat' 'Premium Maisonette' 'Model A2' 'Type S1' 'Type S2'\n",
      " 'Dbss' 'Premium Apartment Loft' '3Gen']\n"
     ]
    }
   ],
   "source": [
    "print(df_combined['flat_model'].unique())\n"
   ]
  },
  {
   "cell_type": "markdown",
   "id": "261e7c79",
   "metadata": {},
   "source": [
    "### Finding the correlation of all the numerical variables in the combined dataset "
   ]
  },
  {
   "cell_type": "code",
   "execution_count": 34,
   "id": "df17216f",
   "metadata": {},
   "outputs": [
    {
     "data": {
      "text/plain": [
       "<AxesSubplot:>"
      ]
     },
     "execution_count": 34,
     "metadata": {},
     "output_type": "execute_result"
    },
    {
     "data": {
      "image/png": "[encoded data removed]",
      "text/plain": [
       "<Figure size 432x288 with 2 Axes>"
      ]
     },
     "metadata": {
      "needs_background": "light"
     },
     "output_type": "display_data"
    }
   ],
   "source": [
    "corr = df_combined.corr()\n",
    "sns.heatmap(corr, annot=True, cmap='coolwarm')\n"
   ]
  },
  {
   "cell_type": "markdown",
   "id": "1fef8626",
   "metadata": {},
   "source": [
    "### Viewing the number of Flats per Town "
   ]
  },
  {
   "cell_type": "code",
   "execution_count": 35,
   "id": "b1599303",
   "metadata": {},
   "outputs": [
    {
     "data": {
      "image/png": "[encoded data removed]",
      "text/plain": [
       "<Figure size 720x576 with 1 Axes>"
      ]
     },
     "metadata": {
      "needs_background": "light"
     },
     "output_type": "display_data"
    }
   ],
   "source": [
    "value_counts = df_combined['town'].value_counts()\n",
    "ax = value_counts.plot(kind='barh', figsize=(10, 8))\n",
    "plt.title('Number of Flats per Town')\n",
    "plt.xlabel('Count')\n",
    "\n",
    "# Add counts to the end of each bar\n",
    "for i, v in enumerate(value_counts): # Loop that goes through every bar (i being the index(0 for the first and 1 for the second) and v being the value(how many flats in that bar))\n",
    "    plt.text(v + 50, i, str(v), va = \"center\") \n",
    "    # X position of the bar:  v + 50 being the X position of the text. Being 50 units to the right of the bar\n",
    "    # Y position of the bar: Y position of the text (same as the bar's position)\n",
    "    # str(v):Converts the number to text so it can be shown on the chart\n",
    "    # va = \"center\": Aligns the text to the center of the bar\n",
    "    \n",
    "plt.tight_layout()\n",
    "plt.show()\n"
   ]
  },
  {
   "cell_type": "markdown",
   "id": "cba1fa53",
   "metadata": {},
   "source": [
    "We can see from the horizontal bar plot that Tampines has the highest number of flats per town with 8205. This could be due to its development as a large, densely populated residential town by the Housing and Development Board (HDB). On the other hand, Lim Chu Kang has few flats because it was historically designated as a rural area with farms and plantations. The government's focus shifted towards resettlement and development in other areas, leading to the eventual clearance of the small public housing estate (Neo Tiew Estate) in Lim Chu Kang. The area is now primarily used for military training and is not intended for large-scale residential development"
   ]
  },
  {
   "cell_type": "markdown",
   "id": "d27978ce",
   "metadata": {},
   "source": [
    "### Viewing the distribution of the target variable of the combined dataset "
   ]
  },
  {
   "cell_type": "code",
   "execution_count": 36,
   "id": "a0134776",
   "metadata": {},
   "outputs": [
    {
     "data": {
      "image/png": "[encoded data removed]",
      "text/plain": [
       "<Figure size 432x288 with 1 Axes>"
      ]
     },
     "metadata": {
      "needs_background": "light"
     },
     "output_type": "display_data"
    }
   ],
   "source": [
    "sns.histplot(df_combined['resale_price'], kde=True, bins=30)\n",
    "plt.title(f\"Price of HDB for df_combined\")\n",
    "plt.show()"
   ]
  },
  {
   "cell_type": "markdown",
   "id": "c35026e2",
   "metadata": {},
   "source": [
    "Based on the histogram above, we can see that it is right skewed. Which means there are exceptionally high values creating a tail on the right side of the histogram"
   ]
  },
  {
   "cell_type": "code",
   "execution_count": 43,
   "id": "8282bb83",
   "metadata": {},
   "outputs": [
    {
     "data": {
      "image/png": "[encoded data removed]",
      "text/plain": [
       "<Figure size 432x288 with 1 Axes>"
      ]
     },
     "metadata": {
      "needs_background": "light"
     },
     "output_type": "display_data"
    }
   ],
   "source": [
    "sample_df = df_combined.sample(n=100, random_state=42)\n",
    "\n",
    "sns.regplot(x='floor_area_sqm', y='resale_price', data=sample_df , ci=None)\n",
    "plt.title('Floor Area vs Resale Price')\n",
    "plt.show()"
   ]
  },
  {
   "cell_type": "code",
   "execution_count": 46,
   "id": "b225b8b7",
   "metadata": {},
   "outputs": [
    {
     "data": {
      "image/png": "[encoded data removed]",
      "text/plain": [
       "<Figure size 432x288 with 1 Axes>"
      ]
     },
     "metadata": {
      "needs_background": "light"
     },
     "output_type": "display_data"
    }
   ],
   "source": [
    "sns.regplot(x='remaining_lease', y='resale_price', data=sample_df , ci=None)\n",
    "plt.title('Remaining Lease vs Resale Price')\n",
    "plt.show()"
   ]
  },
  {
   "cell_type": "code",
   "execution_count": 39,
   "id": "dd564b20",
   "metadata": {},
   "outputs": [
    {
     "data": {
      "image/png": "[encoded data removed]",
      "text/plain": [
       "<Figure size 720x432 with 1 Axes>"
      ]
     },
     "metadata": {
      "needs_background": "light"
     },
     "output_type": "display_data"
    }
   ],
   "source": [
    "plt.figure(figsize=(10,6))\n",
    "sns.boxplot(data=df_combined, x='flat_type', y='resale_price')\n",
    "\n",
    "# Rotate x-axis labels for clarity\n",
    "plt.xticks(rotation=30, ha='right') \n",
    "\n",
    "plt.title('Resale Price by Flat Type')\n",
    "plt.show()\n"
   ]
  },
  {
   "cell_type": "markdown",
   "id": "a6a01bdf",
   "metadata": {},
   "source": [
    "The boxplot visualizes resale prices across various flat types. We observe that:\n",
    "1. Median resale prices generally increase with the flat size. For instance, 1- and 2-room flats have the lowest medians, while Executive and Multi-Generation flats have the highest (around $500,000).\n",
    "2. Price spread (IQR) grows with flat size: Larger flats (4-, 5-room, Executive, Multi-Gen) have wider interquartile ranges, indicating more variability in resale prices within those types.\n",
    "3. Outliers are especially prominent in 3-room and above, particularly 5-room and Executive flats. These represent resale flats sold at unusually high prices — possibly due to location, or other premium features.\n",
    "4. 1 and 2-room flats have tighter price distributions and fewer extreme outliers, reflecting more standardization in pricing.\n",
    "5. Multi-Generation flats show a wide IQR and extreme outliers, suggesting a niche but variable market with some very high-priced transactions."
   ]
  },
  {
   "cell_type": "code",
   "execution_count": 47,
   "id": "b5654cb3",
   "metadata": {},
   "outputs": [
    {
     "data": {
      "text/plain": [
       "Text(0.5, 1.0, 'Price Trends by Flat Type')"
      ]
     },
     "execution_count": 47,
     "metadata": {},
     "output_type": "execute_result"
    },
    {
     "data": {
      "image/png": "[encoded data removed]",
      "text/plain": [
       "<Figure size 1008x432 with 1 Axes>"
      ]
     },
     "metadata": {
      "needs_background": "light"
     },
     "output_type": "display_data"
    }
   ],
   "source": [
    "df_grouped = df_combined.groupby(['month', 'flat_type'])['resale_price'].mean().reset_index()\n",
    "df_grouped['month'] = pd.to_datetime(df_grouped['month'], format='%Y-%m', errors='coerce')\n",
    "df_grouped['year'] = df_grouped['month'].dt.year\n",
    "plt.figure(figsize=(14,6))\n",
    "sns.lineplot(data=df_grouped, x='year', y='resale_price', hue='flat_type', ci=None)\n",
    "plt.title('Price Trends by Flat Type')"
   ]
  },
  {
   "cell_type": "markdown",
   "id": "e5f8e279",
   "metadata": {},
   "source": [
    "The line graph shows average resale price trends by flat type from 1990 to 2025. A few key patterns emerge:\n",
    "\n",
    "1. All flat types exhibit long-term growth in resale prices, despite short-term dips — notably in the late 1990s and around 2013–2015\n",
    "2. 1-room and 2-room flats have the lowest resale prices and follow a similar trajectory, rising more gradually over time with less volatility.\n",
    "3. 3-room to Executive flats follow closely aligned trends, with clear growth from the mid-2000s to early 2010s, suggesting similar demand drivers (e.g. affordability, family suitability).\n",
    "4. Multi-Generation flats have the highest prices but also the most volatile trend post-2010.This could be due to their larger size and the specific eligibility requirements that restrict the pool of potential buyers, leading to sharper swings in average price.\n",
    "5. Around 2013 to 2015, resale prices across all flat types plateau or dip slightly, likely due to government cooling measures.\n",
    "6. Since around 2017, prices have been trending upward again, with sharp increases after 2020, potentially linked to COVID-era supply shortages and increased housing demand."
   ]
  },
  {
   "cell_type": "code",
   "execution_count": 41,
   "id": "676433ec",
   "metadata": {},
   "outputs": [
    {
     "data": {
      "image/png": "[encoded data removed]",
      "text/plain": [
       "<Figure size 1080x720 with 1 Axes>"
      ]
     },
     "metadata": {
      "needs_background": "light"
     },
     "output_type": "display_data"
    }
   ],
   "source": [
    "df_combined.groupby('town')['resale_price'].mean().sort_values(ascending=False).plot(kind='bar', figsize=(15, 10))\n",
    "plt.title(\"Average Resale Price by Town\")\n",
    "plt.ylabel(\"Average Resale Price\")\n",
    "plt.xticks(rotation=45)\n",
    "plt.tight_layout()\n",
    "plt.show()"
   ]
  },
  {
   "cell_type": "markdown",
   "id": "b628f74c",
   "metadata": {},
   "source": [
    "From the above bar graph we can see that Punggol's average resale prices are the highest whilist Tampines, being the area with the highest number of flats in town is only about $350,000. Lim Chu kang on the other hand has exceptionally low average resale prices due to it being a more rural area. Punggol,Bukit Timah, Sengkang have higher HDB resale flat prices which could be due to a combination of factors including strong demand, desirable locations, and future development plans. This could also be because of their central location, good schools, and proximity to MRT lines and amenities"
   ]
  },
  {
   "cell_type": "markdown",
   "id": "b288ed84",
   "metadata": {},
   "source": [
    "## Model Pipeline \n",
    "\n",
    "First we will import all the necessary metrics and models from the sklearn libraries such as mean_squared_error, mean_absolute_error, mean_absolute_percentage_error, r2_score. The models imported are  LinearRegression, Ridge, Lasso, BayesianRidge and DecisionTreeRegressor\\\n",
    "\\\n",
    "We also import preprocessing tools such as:\\\n",
    "StandardScaler for Z-score normalization - used to standardize features by removing mean and scaling to unit variance (z = (x - u) / s)\\\n",
    "OneHotEncoder - converts categorical features to numerical features. \n"
   ]
  },
  {
   "cell_type": "code",
   "execution_count": null,
   "id": "d9ee7ee5",
   "metadata": {},
   "outputs": [],
   "source": [
    "import pandas as pd\n",
    "import numpy as np\n",
    "from sklearn.model_selection import train_test_split\n",
    "from sklearn.pipeline import Pipeline\n",
    "from sklearn.preprocessing import StandardScaler, OneHotEncoder\n",
    "from sklearn.compose import ColumnTransformer\n",
    "from sklearn.decomposition import TruncatedSVD\n",
    "from sklearn.metrics import mean_squared_error, mean_absolute_error, mean_absolute_percentage_error, r2_score\n",
    "\n",
    "# Regressors\n",
    "from sklearn.linear_model import LinearRegression, Ridge, Lasso, BayesianRidge\n",
    "from sklearn.tree import DecisionTreeRegressor\n",
    "\n",
    "X = df_combined[['town', 'floor_area_sqm', 'flat_type', 'storey_range', 'flat_model','remaining_lease']]\n",
    "y = df_combined['resale_price']\n",
    "\n",
    "X_train, X_test, y_train, y_test = train_test_split(X, y, test_size=0.25, random_state=42)\n",
    "\n",
    "numeric_features = ['floor_area_sqm','remaining_lease']\n",
    "categorical_features = ['town', 'flat_type', 'storey_range', 'flat_model']\n",
    "\n",
    "numeric_transformer = StandardScaler()\n",
    "\n",
    "categorical_transformer = Pipeline(steps=[\n",
    "    ('onehot', OneHotEncoder(sparse_output=True, handle_unknown='ignore')),\n",
    "    # Reduces the number of columns (dimensionality) while keeping as much useful information\n",
    "    ('svd', TruncatedSVD(n_components=50, random_state=42)) \n",
    "])\n",
    "\n",
    "preprocessor = ColumnTransformer(transformers=[\n",
    "    ('num', numeric_transformer, numeric_features),\n",
    "    ('cat', categorical_transformer, categorical_features)\n",
    "])\n",
    "\n",
    "clfs = [\n",
    "    ('Linear Regression', LinearRegression()),\n",
    "    ('Bayesian Ridge', BayesianRidge()),\n",
    "    ('Lasso', Lasso(alpha=0.1)),\n",
    "    ('Ridge', Ridge(alpha=0.5)),\n",
    "    ('Decision Tree', DecisionTreeRegressor(max_depth=10))\n",
    "]\n",
    "\n",
    "scores_df = pd.DataFrame(columns=['Model', 'MSE', 'RMSE', 'MAE', 'MAPE', 'R2'])\n",
    "\n",
    "for name, model in clfs:\n",
    "    pipeline = Pipeline(steps=[\n",
    "        ('preprocessor', preprocessor),\n",
    "        ('regressor', model)\n",
    "    ])\n",
    "    \n",
    "    pipeline.fit(X_train, y_train)\n",
    "    y_pred = pipeline.predict(X_test)\n",
    "    \n",
    "    # Train & test predictions\n",
    "    y_pred_train = pipeline.predict(X_train)\n",
    "\n",
    "    # Store metrics\n",
    "    scores_df = pd.concat([scores_df, pd.DataFrame([{\n",
    "        'Model': name,\n",
    "        'Train R2': r2_score(y_train, y_pred_train),\n",
    "        'MSE': mean_squared_error(y_test, y_pred),\n",
    "        'RMSE': np.sqrt(mean_squared_error(y_test, y_pred)),\n",
    "        'MAE': mean_absolute_error(y_test, y_pred),\n",
    "        'MAPE': mean_absolute_percentage_error(y_test, y_pred),\n",
    "        'R2': r2_score(y_test, y_pred)\n",
    "    }])], ignore_index=True)\n"
   ]
  },
  {
   "cell_type": "code",
   "execution_count": 52,
   "id": "a1e54e29",
   "metadata": {},
   "outputs": [
    {
     "data": {
      "text/html": [
       "<div>\n",
       "<style scoped>\n",
       "    .dataframe tbody tr th:only-of-type {\n",
       "        vertical-align: middle;\n",
       "    }\n",
       "\n",
       "    .dataframe tbody tr th {\n",
       "        vertical-align: top;\n",
       "    }\n",
       "\n",
       "    .dataframe thead th {\n",
       "        text-align: right;\n",
       "    }\n",
       "</style>\n",
       "<table border=\"1\" class=\"dataframe\">\n",
       "  <thead>\n",
       "    <tr style=\"text-align: right;\">\n",
       "      <th></th>\n",
       "      <th>Model</th>\n",
       "      <th>MSE</th>\n",
       "      <th>RMSE</th>\n",
       "      <th>MAE</th>\n",
       "      <th>MAPE</th>\n",
       "      <th>R2</th>\n",
       "      <th>Train R2</th>\n",
       "    </tr>\n",
       "  </thead>\n",
       "  <tbody>\n",
       "    <tr>\n",
       "      <th>0</th>\n",
       "      <td>Linear Regression</td>\n",
       "      <td>12712803739.566389</td>\n",
       "      <td>112751.069793</td>\n",
       "      <td>79941.726669</td>\n",
       "      <td>0.332386</td>\n",
       "      <td>0.606523</td>\n",
       "      <td>0.605565</td>\n",
       "    </tr>\n",
       "    <tr>\n",
       "      <th>1</th>\n",
       "      <td>Bayesian Ridge</td>\n",
       "      <td>12712776492.101227</td>\n",
       "      <td>112750.948963</td>\n",
       "      <td>79941.83796</td>\n",
       "      <td>0.332381</td>\n",
       "      <td>0.606524</td>\n",
       "      <td>0.605565</td>\n",
       "    </tr>\n",
       "    <tr>\n",
       "      <th>2</th>\n",
       "      <td>Lasso</td>\n",
       "      <td>12712804149.931135</td>\n",
       "      <td>112751.071613</td>\n",
       "      <td>79941.572812</td>\n",
       "      <td>0.332385</td>\n",
       "      <td>0.606523</td>\n",
       "      <td>0.605565</td>\n",
       "    </tr>\n",
       "    <tr>\n",
       "      <th>3</th>\n",
       "      <td>Ridge</td>\n",
       "      <td>12712790157.630037</td>\n",
       "      <td>112751.009564</td>\n",
       "      <td>79941.781705</td>\n",
       "      <td>0.332383</td>\n",
       "      <td>0.606523</td>\n",
       "      <td>0.605565</td>\n",
       "    </tr>\n",
       "    <tr>\n",
       "      <th>4</th>\n",
       "      <td>Decision Tree</td>\n",
       "      <td>6747539134.499548</td>\n",
       "      <td>82143.40591</td>\n",
       "      <td>56832.432766</td>\n",
       "      <td>0.22589</td>\n",
       "      <td>0.791155</td>\n",
       "      <td>0.790784</td>\n",
       "    </tr>\n",
       "  </tbody>\n",
       "</table>\n",
       "</div>"
      ],
      "text/plain": [
       "               Model                 MSE           RMSE           MAE  \\\n",
       "0  Linear Regression  12712803739.566389  112751.069793  79941.726669   \n",
       "1     Bayesian Ridge  12712776492.101227  112750.948963   79941.83796   \n",
       "2              Lasso  12712804149.931135  112751.071613  79941.572812   \n",
       "3              Ridge  12712790157.630037  112751.009564  79941.781705   \n",
       "4      Decision Tree   6747539134.499548    82143.40591  56832.432766   \n",
       "\n",
       "       MAPE        R2  Train R2  \n",
       "0  0.332386  0.606523  0.605565  \n",
       "1  0.332381  0.606524  0.605565  \n",
       "2  0.332385  0.606523  0.605565  \n",
       "3  0.332383  0.606523  0.605565  \n",
       "4   0.22589  0.791155  0.790784  "
      ]
     },
     "execution_count": 52,
     "metadata": {},
     "output_type": "execute_result"
    }
   ],
   "source": [
    "scores_df"
   ]
  },
  {
   "cell_type": "markdown",
   "id": "03d0d326",
   "metadata": {},
   "source": [
    "### Metrics definitions\n",
    "\\\n",
    "The metrics we have chosen: \n",
    "\n",
    " **MSE** (Mean Squared Error)  - Penalizes large errors heavily. Average of squared errors.   \\\n",
    " **RMSE** (Root Mean Squared Error)           - typical size of prediction errors, with more weight on big mistakes \\\n",
    "  **MAE** (Mean Absolute Error) - Average absolute difference in $ between predicted and actual resale price \\\n",
    " **MAPE** (%)                  - Average percentage error. 50% means off by that % on average. \\\n",
    " **R² (Test)**                 - % of variance in resale price explained by model on test data \\\n",
    " **Train R²**       - Helps to detect overfitting/underfitting                  "
   ]
  },
  {
   "cell_type": "markdown",
   "id": "7a9f0599",
   "metadata": {},
   "source": [
    "### How do we know if the model is Overfitting or Underfitting?\n",
    "\n",
    "1. If the Train R2 and the Test R2 both have very low values (E.g R2 = 0.1 , Train R2 = 0.1), This indicates Underfitting (Model is too simple to learn the pattern)\n",
    "2. If the Train R2 has a high value and the Test R2 has a low value (E.g R2 = 0.4, Train R2 = 0.9), This indicates Overfitting (Model memorised the training patterns but fails to generalize)\n",
    "\n"
   ]
  },
  {
   "cell_type": "markdown",
   "id": "9b9b2618",
   "metadata": {},
   "source": [
    "### Is the model performing well? \n",
    "\n",
    "1. RMSE and MAE should be closer to 0. In this case, maybe below 80k\n",
    "2. MAPE would be considered decent if its lower than 20%. Excellent if its below 10% \n",
    "3. R2 would be decent if 0.5 - 0.8 and excellent if > 0.8"
   ]
  },
  {
   "cell_type": "markdown",
   "id": "35496e1c",
   "metadata": {},
   "source": [
    "### Explaining the model output \n",
    "\n",
    "1. 5 out of the 6 models have the same RMSE ($129929) and almost the same MAE (Except for Bayesian Ridge's MAE - $100684) \n",
    "2. So far, the decision tree model has been performing better with a lower RMSE ($117209) and almost close to 80k MAE (90463). It also has a lower MAPE (41%) \n",
    "3. The MAE for the first 5 models indicate that the average prediction for all those models are off by around $79941\n",
    "4. There is no Overfitting or Underfitting for each of the models \n",
    "5. The results can be better with some model improvements "
   ]
  },
  {
   "cell_type": "markdown",
   "id": "69e7209b",
   "metadata": {},
   "source": [
    "### Errors encountered: \n",
    "TypeError: A sparse matrix was passed, but dense data is required. Use X.toarray() to convert to a dense numpy array.\\\n",
    "\n",
    "Error meaning:\\\n",
    "OneHotEncoder turns categorical data (like town, flat_type) into numbers, it produces a sparse matrix. That means it creates a big table filled mostly with zeroes to save space — because one-hot encoding turns categories into columns, and most values will be zero.\n",
    "\n",
    "### Explanation of TruncatedSVD \n",
    "1. reduces the number of columns (dimensionality) while keeping as much information as possible. Basically like summarizing a book. Lose some details but keeps the main point\n",
    "2. After the OneHotEncoder does its job, TuncatedSVD summarizes the table into 50 useful features (n_components=50) \n",
    "3. Helps the code run faster, avoid overfitting and also it works well with tables that have alot of categories \n"
   ]
  },
  {
   "cell_type": "markdown",
   "id": "a25846ef",
   "metadata": {},
   "source": [
    "# Model Improvement\n",
    "For improving the model, I used GridSearchCV and Cross Validation to find the best hyperparameters for the Decision Tree Model. Furthermore, I added 2 new models to the model pipeline which are XGBoost and RandomForestRegressor. These models use tree structures to split the data based on feature threshold and work well with both numerical and categorcial data. They are also more robust as they handle noise,outliers and missing values better.\n",
    "\n",
    "In addition, RandomForest reduces overfitting of a single decision tree by averaging many trees and XGBoost is a more advanced technique that learns from the mistakes of prior trees (boosting), often leading to state-of-the-art performance. "
   ]
  },
  {
   "cell_type": "code",
   "execution_count": null,
   "id": "056ecce3",
   "metadata": {},
   "outputs": [
    {
     "name": "stdout",
     "output_type": "stream",
     "text": [
      "Training Decision Tree\n",
      "Training Random Forest\n",
      "Training XGBoost\n"
     ]
    },
    {
     "data": {
      "text/html": [
       "<div>\n",
       "<style scoped>\n",
       "    .dataframe tbody tr th:only-of-type {\n",
       "        vertical-align: middle;\n",
       "    }\n",
       "\n",
       "    .dataframe tbody tr th {\n",
       "        vertical-align: top;\n",
       "    }\n",
       "\n",
       "    .dataframe thead th {\n",
       "        text-align: right;\n",
       "    }\n",
       "</style>\n",
       "<table border=\"1\" class=\"dataframe\">\n",
       "  <thead>\n",
       "    <tr style=\"text-align: right;\">\n",
       "      <th></th>\n",
       "      <th>Model</th>\n",
       "      <th>Best Params</th>\n",
       "      <th>MSE</th>\n",
       "      <th>RMSE</th>\n",
       "      <th>MAE</th>\n",
       "      <th>MAPE</th>\n",
       "      <th>R2</th>\n",
       "    </tr>\n",
       "  </thead>\n",
       "  <tbody>\n",
       "    <tr>\n",
       "      <th>0</th>\n",
       "      <td>Decision Tree</td>\n",
       "      <td>{'regressor__max_depth': 10, 'regressor__min_s...</td>\n",
       "      <td>10077604456.515457</td>\n",
       "      <td>100387.272383</td>\n",
       "      <td>68263.161742</td>\n",
       "      <td>0.262955</td>\n",
       "      <td>0.697161</td>\n",
       "    </tr>\n",
       "    <tr>\n",
       "      <th>1</th>\n",
       "      <td>Random Forest</td>\n",
       "      <td>{'regressor__max_depth': 20, 'regressor__n_est...</td>\n",
       "      <td>7336309728.587793</td>\n",
       "      <td>85652.260499</td>\n",
       "      <td>57223.21289</td>\n",
       "      <td>0.225222</td>\n",
       "      <td>0.779539</td>\n",
       "    </tr>\n",
       "    <tr>\n",
       "      <th>2</th>\n",
       "      <td>XGBoost</td>\n",
       "      <td>{'regressor__learning_rate': 0.1, 'regressor__...</td>\n",
       "      <td>6820958100.778978</td>\n",
       "      <td>82589.091899</td>\n",
       "      <td>58176.481397</td>\n",
       "      <td>0.239335</td>\n",
       "      <td>0.795026</td>\n",
       "    </tr>\n",
       "  </tbody>\n",
       "</table>\n",
       "</div>"
      ],
      "text/plain": [
       "           Model                                        Best Params  \\\n",
       "0  Decision Tree  {'regressor__max_depth': 10, 'regressor__min_s...   \n",
       "1  Random Forest  {'regressor__max_depth': 20, 'regressor__n_est...   \n",
       "2        XGBoost  {'regressor__learning_rate': 0.1, 'regressor__...   \n",
       "\n",
       "                  MSE           RMSE           MAE      MAPE        R2  \n",
       "0  10077604456.515457  100387.272383  68263.161742  0.262955  0.697161  \n",
       "1   7336309728.587793   85652.260499   57223.21289  0.225222  0.779539  \n",
       "2   6820958100.778978   82589.091899  58176.481397  0.239335  0.795026  "
      ]
     },
     "execution_count": 53,
     "metadata": {},
     "output_type": "execute_result"
    }
   ],
   "source": [
    "import pandas as pd\n",
    "import numpy as np\n",
    "from sklearn.model_selection import train_test_split, GridSearchCV\n",
    "from sklearn.pipeline import Pipeline\n",
    "from sklearn.preprocessing import StandardScaler, OneHotEncoder\n",
    "from sklearn.compose import ColumnTransformer\n",
    "from sklearn.decomposition import TruncatedSVD\n",
    "from sklearn.metrics import mean_squared_error, r2_score, mean_absolute_error, mean_absolute_percentage_error\n",
    "\n",
    "# Models\n",
    "from sklearn.ensemble import RandomForestRegressor\n",
    "from xgboost import XGBRegressor\n",
    "from sklearn.tree import DecisionTreeRegressor\n",
    "\n",
    "df_sample = df_combined.sample(n=10000, random_state=42)\n",
    "\n",
    "# Features and target\n",
    "X = df_sample[['town', 'floor_area_sqm', 'flat_type', 'storey_range', 'flat_model','remaining_lease']]\n",
    "y = df_sample['resale_price']\n",
    "\n",
    "X_train, X_test, y_train, y_test = train_test_split(X, y, test_size=0.25, random_state=42)\n",
    "\n",
    "numeric_features = ['floor_area_sqm','remaining_lease']\n",
    "categorical_features = ['town', 'flat_type', 'storey_range', 'flat_model']\n",
    "\n",
    "# Preprocessing pipeline\n",
    "numeric_transformer = StandardScaler()\n",
    "\n",
    "categorical_transformer = Pipeline(steps=[\n",
    "    ('onehot', OneHotEncoder(sparse_output=True, handle_unknown='ignore')),\n",
    "    ('svd', TruncatedSVD(n_components=50, random_state=42)) \n",
    "])\n",
    "\n",
    "preprocessor = ColumnTransformer(transformers=[\n",
    "    ('num', numeric_transformer, numeric_features),\n",
    "    ('cat', categorical_transformer, categorical_features)\n",
    "])\n",
    "\n",
    "# Model and hyperparameter grid setup\n",
    "models = {\n",
    "     'Decision Tree': (\n",
    "        DecisionTreeRegressor(),\n",
    "        {\n",
    "            'regressor__max_depth': [5, 10, 20],\n",
    "            'regressor__min_samples_split': [2, 5]\n",
    "        }\n",
    "    ),\n",
    "    'Random Forest': (\n",
    "        RandomForestRegressor(n_jobs=-1, random_state=42),\n",
    "        {\n",
    "            'regressor__n_estimators': [100],\n",
    "            'regressor__max_depth': [10, 20]\n",
    "        }\n",
    "    ),\n",
    "    'XGBoost': (\n",
    "        XGBRegressor(objective='reg:squarederror', n_jobs=-1, random_state=42),\n",
    "        {\n",
    "            'regressor__n_estimators': [100],\n",
    "            'regressor__max_depth': [3, 6],\n",
    "            'regressor__learning_rate': [0.05, 0.1]\n",
    "        }\n",
    "    )\n",
    "}\n",
    "\n",
    "# Score storage\n",
    "results_2 = pd.DataFrame(columns=['Model', 'Best Params', 'MSE', 'RMSE', 'MAE', 'MAPE', 'R2'])\n",
    "\n",
    "# Training and evaluation\n",
    "for name, (model, param_grid) in models.items():\n",
    "    print(f\"Training {name}\")\n",
    "    pipeline = Pipeline([\n",
    "        ('preprocessor', preprocessor),\n",
    "        ('regressor', model)\n",
    "    ])\n",
    "    \n",
    "    grid_search = GridSearchCV(pipeline, param_grid, cv=3, scoring='neg_mean_squared_error', n_jobs=-1)\n",
    "    grid_search.fit(X_train, y_train)\n",
    "    \n",
    "    best_model = grid_search.best_estimator_\n",
    "    y_pred = best_model.predict(X_test)\n",
    "\n",
    "    mse = mean_squared_error(y_test, y_pred)\n",
    "    rmse = np.sqrt(mse)\n",
    "    mae = mean_absolute_error(y_test, y_pred)\n",
    "    mape = mean_absolute_percentage_error(y_test, y_pred)\n",
    "    r2 = r2_score(y_test, y_pred)\n",
    "\n",
    "    results_2 = pd.concat([results_2, pd.DataFrame([{\n",
    "        'Model': name,\n",
    "        'Best Params': grid_search.best_params_,\n",
    "        'MSE': mse,\n",
    "        'RMSE': rmse,\n",
    "        'MAE': mae,\n",
    "        'MAPE': mape,\n",
    "        'R2': r2\n",
    "    }])], ignore_index=True)\n",
    "\n",
    "# Show model performances\n",
    "results_2\n"
   ]
  },
  {
   "cell_type": "markdown",
   "id": "d45db311",
   "metadata": {},
   "source": [
    "### Output\n",
    "All the three models have performed decently well after hyperparameter tuning with GridSearchCV. Cross Validation has been set to 3. XGBoost has shown the best R2 score with 0.79 , Random Forest has the best MAPE score with the predicted prices being 22% off the actual prices on average. Random Forest also has the lowest MAE score (Absolute average difference in $) between the predicted and actual resale price with $57223. Decision Tree has performed slightly better in the improved model pipeline but not as good as the new models.\\\n",
    "\n",
    "Now instead of using the sample dataset, I shall train XGBoost on the full dataset instead to see if there are any improvements. I am not adding RandomForest to train the full dataset although it has performed well because RandomForest is memory intensive and the full data set consists of around 955k rows of data which will blow up the RAM usage."
   ]
  },
  {
   "cell_type": "markdown",
   "id": "59bf0275",
   "metadata": {},
   "source": [
    "## XGBoost on the full dataset "
   ]
  },
  {
   "cell_type": "code",
   "execution_count": 49,
   "id": "30d2c1a4",
   "metadata": {},
   "outputs": [
    {
     "name": "stdout",
     "output_type": "stream",
     "text": [
      "Training XGBoost\n"
     ]
    },
    {
     "data": {
      "text/html": [
       "<div>\n",
       "<style scoped>\n",
       "    .dataframe tbody tr th:only-of-type {\n",
       "        vertical-align: middle;\n",
       "    }\n",
       "\n",
       "    .dataframe tbody tr th {\n",
       "        vertical-align: top;\n",
       "    }\n",
       "\n",
       "    .dataframe thead th {\n",
       "        text-align: right;\n",
       "    }\n",
       "</style>\n",
       "<table border=\"1\" class=\"dataframe\">\n",
       "  <thead>\n",
       "    <tr style=\"text-align: right;\">\n",
       "      <th></th>\n",
       "      <th>Model</th>\n",
       "      <th>Best Params</th>\n",
       "      <th>MSE</th>\n",
       "      <th>RMSE</th>\n",
       "      <th>MAE</th>\n",
       "      <th>MAPE</th>\n",
       "      <th>R2</th>\n",
       "    </tr>\n",
       "  </thead>\n",
       "  <tbody>\n",
       "    <tr>\n",
       "      <th>0</th>\n",
       "      <td>XGBoost</td>\n",
       "      <td>{'regressor__learning_rate': 0.1, 'regressor__...</td>\n",
       "      <td>4760849562.52915</td>\n",
       "      <td>68998.909865</td>\n",
       "      <td>49924.449332</td>\n",
       "      <td>0.203234</td>\n",
       "      <td>0.852646</td>\n",
       "    </tr>\n",
       "  </tbody>\n",
       "</table>\n",
       "</div>"
      ],
      "text/plain": [
       "     Model                                        Best Params  \\\n",
       "0  XGBoost  {'regressor__learning_rate': 0.1, 'regressor__...   \n",
       "\n",
       "                MSE          RMSE           MAE      MAPE        R2  \n",
       "0  4760849562.52915  68998.909865  49924.449332  0.203234  0.852646  "
      ]
     },
     "execution_count": 49,
     "metadata": {},
     "output_type": "execute_result"
    }
   ],
   "source": [
    "import pandas as pd\n",
    "import numpy as np\n",
    "from sklearn.model_selection import train_test_split, GridSearchCV\n",
    "from sklearn.pipeline import Pipeline\n",
    "from sklearn.preprocessing import StandardScaler, OneHotEncoder\n",
    "from sklearn.compose import ColumnTransformer\n",
    "from sklearn.decomposition import TruncatedSVD\n",
    "from sklearn.metrics import mean_squared_error, r2_score, mean_absolute_error, mean_absolute_percentage_error\n",
    "\n",
    "# Models\n",
    "from xgboost import XGBRegressor\n",
    "\n",
    "# Features and target\n",
    "X = df_combined[['town', 'floor_area_sqm', 'flat_type', 'storey_range', 'flat_model','remaining_lease']]\n",
    "y = df_combined['resale_price']\n",
    "\n",
    "X_train, X_test, y_train, y_test = train_test_split(X, y, test_size=0.25, random_state=42)\n",
    "\n",
    "numeric_features = ['floor_area_sqm','remaining_lease']\n",
    "categorical_features = ['town', 'flat_type', 'storey_range', 'flat_model']\n",
    "\n",
    "# Preprocessing pipeline\n",
    "numeric_transformer = StandardScaler()\n",
    "\n",
    "categorical_transformer = Pipeline(steps=[\n",
    "    ('onehot', OneHotEncoder(sparse_output=True, handle_unknown='ignore')),\n",
    "    ('svd', TruncatedSVD(n_components=50, random_state=42)) \n",
    "])\n",
    "\n",
    "preprocessor = ColumnTransformer(transformers=[\n",
    "    ('num', numeric_transformer, numeric_features),\n",
    "    ('cat', categorical_transformer, categorical_features)\n",
    "])\n",
    "\n",
    "# Model and hyperparameter grid setup\n",
    "models = {\n",
    "    'XGBoost': (\n",
    "        XGBRegressor(objective='reg:squarederror', n_jobs=-1, random_state=42),\n",
    "        {\n",
    "            'regressor__n_estimators': [100],\n",
    "            'regressor__max_depth': [6],\n",
    "            'regressor__learning_rate':[0.1] \n",
    "        }\n",
    "    )\n",
    "}\n",
    "\n",
    "# Score storage\n",
    "results_3 = pd.DataFrame(columns=['Model', 'Best Params', 'MSE', 'RMSE', 'MAE', 'MAPE', 'R2'])\n",
    "\n",
    "# Training and evaluation\n",
    "for name, (model, param_grid) in models.items():\n",
    "    print(f\"Training {name}\")\n",
    "    pipeline = Pipeline([\n",
    "        ('preprocessor', preprocessor),\n",
    "        ('regressor', model)\n",
    "    ])\n",
    "    \n",
    "    grid_search = GridSearchCV(pipeline, param_grid, cv=3, scoring='neg_mean_squared_error', n_jobs=-1)\n",
    "    grid_search.fit(X_train, y_train)\n",
    "    \n",
    "    best_model = grid_search.best_estimator_\n",
    "    y_pred = best_model.predict(X_test)\n",
    "\n",
    "    mse = mean_squared_error(y_test, y_pred)\n",
    "    rmse = np.sqrt(mse)\n",
    "    mae = mean_absolute_error(y_test, y_pred)\n",
    "    mape = mean_absolute_percentage_error(y_test, y_pred)\n",
    "    r2 = r2_score(y_test, y_pred)\n",
    "\n",
    "    results_3 = pd.concat([results_3, pd.DataFrame([{\n",
    "        'Model': name,\n",
    "        'Best Params': grid_search.best_params_,\n",
    "        'MSE': mse,\n",
    "        'RMSE': rmse,\n",
    "        'MAE': mae,\n",
    "        'MAPE': mape,\n",
    "        'R2': r2\n",
    "    }])], ignore_index=True)\n",
    "\n",
    "# Show all model performances\n",
    "results_3"
   ]
  },
  {
   "cell_type": "markdown",
   "id": "30d4f237",
   "metadata": {},
   "source": [
    "## Conclusion\n",
    "The XGBoost model has performed very well on the full dataset. The MAE score is lesser by $8252 than when trained on the sample dataset which indicates the average predicted price is only about $49924 off the actual price. On the other hand, MAPE score indicates 20% off actual predicted values which is an improvement from the previous 23%. and R2 score is above 0.8. \n"
   ]
  },
  {
   "cell_type": "markdown",
   "id": "c58563cb",
   "metadata": {},
   "source": [
    "# For Testing (Log Transforming) \n",
    "The target_variable (resale_price) histogram is shown to be right skewed. Therefore, I wanted to try and see if we can use log transforming to handle the skewed distributions. This is because a few very expensive properties can inflate the mean and affect model performance. "
   ]
  },
  {
   "cell_type": "markdown",
   "id": "1f2393a7",
   "metadata": {},
   "source": [
    "## What is Log transforming? \n",
    "Log transformation compresses large values and stretches small ones — this often results in a more normal (bell curve) distribution. In other words, making a skewed histogram into a normally distributed one.\n",
    "\n",
    "## How does Log transforming fix skewness? \n",
    "np.log() or ln , squashes large numbers more than small ones. For instance, the log transformation is applied to the resale_price variable. For instance, if the original value is 100,000 then np.log(100,000) becomes 11.5. ln in mathematics represents the natural logarithm which a logarithm with the base of the mathematical constant e (approximately 2.71828). In other words, ln(x) is the same as logₑ(x). "
   ]
  },
  {
   "cell_type": "code",
   "execution_count": 41,
   "id": "073d6611",
   "metadata": {},
   "outputs": [
    {
     "data": {
      "image/png": "[encoded data removed]",
      "text/plain": [
       "<Figure size 864x360 with 2 Axes>"
      ]
     },
     "metadata": {
      "needs_background": "light"
     },
     "output_type": "display_data"
    }
   ],
   "source": [
    "import seaborn as sns\n",
    "import matplotlib.pyplot as plt\n",
    "import numpy as np\n",
    "\n",
    "plt.figure(figsize=(12, 5))\n",
    "\n",
    "plt.subplot(1, 2, 1)\n",
    "sns.histplot(df_combined['resale_price'], bins=100, kde=True)\n",
    "plt.title('Original Resale Price Distribution')\n",
    "\n",
    "plt.subplot(1, 2, 2)\n",
    "sns.histplot(np.log(df_combined['resale_price']), bins=100, kde=True)\n",
    "plt.title('Log-Transformed Resale Price Distribution')\n",
    "\n",
    "plt.tight_layout()\n",
    "plt.show()"
   ]
  },
  {
   "cell_type": "code",
   "execution_count": 42,
   "id": "c148d867",
   "metadata": {},
   "outputs": [
    {
     "data": {
      "text/html": [
       "<div>\n",
       "<style scoped>\n",
       "    .dataframe tbody tr th:only-of-type {\n",
       "        vertical-align: middle;\n",
       "    }\n",
       "\n",
       "    .dataframe tbody tr th {\n",
       "        vertical-align: top;\n",
       "    }\n",
       "\n",
       "    .dataframe thead th {\n",
       "        text-align: right;\n",
       "    }\n",
       "</style>\n",
       "<table border=\"1\" class=\"dataframe\">\n",
       "  <thead>\n",
       "    <tr style=\"text-align: right;\">\n",
       "      <th></th>\n",
       "      <th>Model</th>\n",
       "      <th>MSE</th>\n",
       "      <th>RMSE</th>\n",
       "      <th>MAE</th>\n",
       "      <th>MAPE</th>\n",
       "      <th>R2</th>\n",
       "      <th>Train R2</th>\n",
       "    </tr>\n",
       "  </thead>\n",
       "  <tbody>\n",
       "    <tr>\n",
       "      <th>0</th>\n",
       "      <td>Linear Regression</td>\n",
       "      <td>16692494629.028351</td>\n",
       "      <td>129199.437418</td>\n",
       "      <td>84759.950607</td>\n",
       "      <td>0.309126</td>\n",
       "      <td>0.483347</td>\n",
       "      <td>0.486896</td>\n",
       "    </tr>\n",
       "    <tr>\n",
       "      <th>1</th>\n",
       "      <td>Bayesian Ridge</td>\n",
       "      <td>16688794830.372622</td>\n",
       "      <td>129185.118456</td>\n",
       "      <td>84757.077832</td>\n",
       "      <td>0.309133</td>\n",
       "      <td>0.483461</td>\n",
       "      <td>0.486995</td>\n",
       "    </tr>\n",
       "    <tr>\n",
       "      <th>2</th>\n",
       "      <td>Lasso</td>\n",
       "      <td>24686211244.917747</td>\n",
       "      <td>157118.462457</td>\n",
       "      <td>111937.278748</td>\n",
       "      <td>0.463574</td>\n",
       "      <td>0.235931</td>\n",
       "      <td>0.234208</td>\n",
       "    </tr>\n",
       "    <tr>\n",
       "      <th>3</th>\n",
       "      <td>Ridge</td>\n",
       "      <td>16691164352.39447</td>\n",
       "      <td>129194.289163</td>\n",
       "      <td>84758.918305</td>\n",
       "      <td>0.309128</td>\n",
       "      <td>0.483388</td>\n",
       "      <td>0.486932</td>\n",
       "    </tr>\n",
       "    <tr>\n",
       "      <th>4</th>\n",
       "      <td>Decision Tree</td>\n",
       "      <td>6523927164.532437</td>\n",
       "      <td>80770.831149</td>\n",
       "      <td>54918.628299</td>\n",
       "      <td>0.197678</td>\n",
       "      <td>0.798076</td>\n",
       "      <td>0.799778</td>\n",
       "    </tr>\n",
       "  </tbody>\n",
       "</table>\n",
       "</div>"
      ],
      "text/plain": [
       "               Model                 MSE           RMSE            MAE  \\\n",
       "0  Linear Regression  16692494629.028351  129199.437418   84759.950607   \n",
       "1     Bayesian Ridge  16688794830.372622  129185.118456   84757.077832   \n",
       "2              Lasso  24686211244.917747  157118.462457  111937.278748   \n",
       "3              Ridge   16691164352.39447  129194.289163   84758.918305   \n",
       "4      Decision Tree   6523927164.532437   80770.831149   54918.628299   \n",
       "\n",
       "       MAPE        R2  Train R2  \n",
       "0  0.309126  0.483347  0.486896  \n",
       "1  0.309133  0.483461  0.486995  \n",
       "2  0.463574  0.235931  0.234208  \n",
       "3  0.309128  0.483388  0.486932  \n",
       "4  0.197678  0.798076  0.799778  "
      ]
     },
     "execution_count": 42,
     "metadata": {},
     "output_type": "execute_result"
    }
   ],
   "source": [
    "import pandas as pd\n",
    "import numpy as np\n",
    "from sklearn.model_selection import train_test_split\n",
    "from sklearn.pipeline import Pipeline\n",
    "from sklearn.preprocessing import StandardScaler, OneHotEncoder\n",
    "from sklearn.compose import ColumnTransformer\n",
    "from sklearn.decomposition import TruncatedSVD\n",
    "from sklearn.metrics import mean_squared_error, mean_absolute_error, mean_absolute_percentage_error, r2_score\n",
    "\n",
    "# Regressors\n",
    "from sklearn.linear_model import LinearRegression, Ridge, Lasso, BayesianRidge\n",
    "from sklearn.tree import DecisionTreeRegressor\n",
    "\n",
    "# --- Step 1: Feature set and log-transformed target ---\n",
    "X = df_combined[['town', 'floor_area_sqm', 'flat_type', 'storey_range', 'flat_model', 'remaining_lease']]\n",
    "y = np.log(df_combined['resale_price'])  # Apply log-transform\n",
    "\n",
    "# --- Step 2: Train-test split ---\n",
    "X_train, X_test, y_train, y_test = train_test_split(X, y, test_size=0.25, random_state=42)\n",
    "\n",
    "# --- Step 3: Preprocessing transformers ---\n",
    "numeric_features = ['floor_area_sqm', 'remaining_lease']\n",
    "categorical_features = ['town', 'flat_type', 'storey_range', 'flat_model']\n",
    "\n",
    "numeric_transformer = StandardScaler()\n",
    "\n",
    "categorical_transformer = Pipeline(steps=[\n",
    "    ('onehot', OneHotEncoder(sparse_output=True, handle_unknown='ignore')),\n",
    "    ('svd', TruncatedSVD(n_components=50, random_state=42))  # Dimensionality reduction\n",
    "])\n",
    "\n",
    "preprocessor = ColumnTransformer(transformers=[\n",
    "    ('num', numeric_transformer, numeric_features),\n",
    "    ('cat', categorical_transformer, categorical_features)\n",
    "])\n",
    "\n",
    "# --- Step 4: Define models ---\n",
    "clfs = [\n",
    "    ('Linear Regression', LinearRegression()),\n",
    "    ('Bayesian Ridge', BayesianRidge()),\n",
    "    ('Lasso', Lasso(alpha=0.1)),\n",
    "    ('Ridge', Ridge(alpha=0.5)),\n",
    "    ('Decision Tree', DecisionTreeRegressor(max_depth=10))\n",
    "]\n",
    "\n",
    "# --- Step 5: Score storage ---\n",
    "scores_df_a = pd.DataFrame(columns=['Model', 'MSE', 'RMSE', 'MAE', 'MAPE', 'R2'])\n",
    "\n",
    "# --- Step 6: Train models, predict, evaluate ---\n",
    "for name, model in clfs:\n",
    "    pipeline = Pipeline(steps=[\n",
    "        ('preprocessor', preprocessor),\n",
    "        ('regressor', model)\n",
    "    ])\n",
    "    \n",
    "    pipeline.fit(X_train, y_train)\n",
    "    \n",
    "    # Predict in log scale\n",
    "    y_pred_log = pipeline.predict(X_test)\n",
    "    y_pred_train_log = pipeline.predict(X_train)\n",
    "    \n",
    "    # Convert back to actual prices\n",
    "    y_pred = np.exp(y_pred_log)\n",
    "    y_pred_train = np.exp(y_pred_train_log)\n",
    "    y_test_actual = np.exp(y_test)\n",
    "    y_train_actual = np.exp(y_train)\n",
    "\n",
    "    # Evaluation on actual resale price\n",
    "    scores_df_a = pd.concat([scores_df_a, pd.DataFrame([{\n",
    "        'Model': name,\n",
    "        'Train R2': r2_score(y_train_actual, y_pred_train),\n",
    "        'MSE': mean_squared_error(y_test_actual, y_pred),\n",
    "        'RMSE': np.sqrt(mean_squared_error(y_test_actual, y_pred)),\n",
    "        'MAE': mean_absolute_error(y_test_actual, y_pred),\n",
    "        'MAPE': mean_absolute_percentage_error(y_test_actual, y_pred),\n",
    "        'R2': r2_score(y_test_actual, y_pred)\n",
    "    }])], ignore_index=True)\n",
    "\n",
    "# --- Step 7: Show results ---\n",
    "scores_df_a\n"
   ]
  },
  {
   "cell_type": "markdown",
   "id": "f49ef052",
   "metadata": {},
   "source": [
    "# Conclusion \n",
    "1. Model Performance based on all tests \n",
    "- While the Decision Tree model with log-transformation slightly outperformed XGBoost in terms of MAPE, this came at the cost of higher absolute errors (MAE) and lower variance explanation (R²). Since resale prices involve a wide range of values and stakeholders are typically more concerned with dollar-level prediction accuracy rather than percentage error, XGBoost is the better model overall. It achieves a higher R² (0.853) and significantly lower RMSE and MAE — meaning it generalizes better and performs more reliably across all price segments.\n",
    "\n",
    "2. Purpose of the Analysis\n",
    "- This project aimed to predict HDB resale prices based on property attributes such as location, floor_are, remaining lease etc. Accurate pricing predictions benefit potential home buyers, sellers, and property analysts, enabling more informed decision-making in Singapore’s real estate market.\n",
    "\n",
    "3. Limitations\n",
    "- While the model performs well overall, it does not currently account for temporal effects such as market cycles or policy changes (e.g., cooling measures) \n"
   ]
  }
 ],
 "metadata": {
  "kernelspec": {
   "display_name": "base",
   "language": "python",
   "name": "python3"
  },
  "language_info": {
   "codemirror_mode": {
    "name": "ipython",
    "version": 3
   },
   "file_extension": ".py",
   "mimetype": "text/x-python",
   "name": "python",
   "nbconvert_exporter": "python",
   "pygments_lexer": "ipython3",
   "version": "3.9.12"
  }
 },
 "nbformat": 4,
 "nbformat_minor": 5
}
